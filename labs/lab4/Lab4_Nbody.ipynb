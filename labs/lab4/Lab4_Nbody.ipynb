{
 "cells": [
  {
   "cell_type": "code",
   "execution_count": 36,
   "metadata": {},
   "outputs": [],
   "source": [
    "import os\n",
    "import matplotlib.pyplot as plt\n",
    "import numpy as np\n",
    "import IPython.display as ipd"
   ]
  },
  {
   "attachments": {},
   "cell_type": "markdown",
   "metadata": {},
   "source": [
    "# Leapfrog N-Body Code with Python"
   ]
  },
  {
   "attachments": {},
   "cell_type": "markdown",
   "metadata": {},
   "source": [
    "Newton's Law of Gravity:\n",
    "\n",
    "$$\n",
    "\\vec{F} = -\\frac{m_1 m_2}{r^3}\\vec{r},\\quad\\mathrm{or}\\quad \\vec{a_1} = \\vec{F} / m_1 = -\\frac{m_2}{r^3}\\vec{r}\n",
    "$$\n",
    "\n",
    "where we've set $G = 1$.\n",
    "\n",
    "Add softening:\n",
    "\n",
    "$$\n",
    "\\vec{a_1} = -\\frac{m_2}{(r^2 + \\epsilon^2)^{3/2}}\\vec{r}\n",
    "$$\n",
    "\n",
    "where $\\epsilon$ is a small number to prevent singularities."
   ]
  },
  {
   "cell_type": "code",
   "execution_count": 44,
   "metadata": {},
   "outputs": [],
   "source": [
    "def accel(m: np.ndarray, x: np.ndarray, eps_sq: float) -> np.ndarray:\n",
    "    \"\"\"Compute accelerations for harmonic oscillator(s)\n",
    "\n",
    "    Args:\n",
    "        m (array of shape (N,)): masses of points\n",
    "        x (array of shape (N, 3)): positions of points\n",
    "        eps_sq (float): softening parameter\n",
    "\n",
    "    Returns:\n",
    "        a (array of shape (N, 3)): accelerations of points\n",
    "    \"\"\"\n",
    "    n = len(m)  # number of points\n",
    "    a = np.zeros((n, 3))  # initialize accelerations\n",
    "    for i in range(n):  # loop over all points...\n",
    "        for j in range(i + 1, n):  # loop over i, j pairs\n",
    "            r_vec = x[i] - x[j]\n",
    "            r_sq = (r_vec**2).sum()\n",
    "            acc = m[j] * r_vec / (r_sq + eps_sq)**(3/2)\n",
    "            a[i] += -acc\n",
    "            a[j] += acc\n",
    "    return a\n"
   ]
  },
  {
   "cell_type": "code",
   "execution_count": 14,
   "metadata": {},
   "outputs": [],
   "source": [
    "def leapstep(m: np.ndarray, x: np.ndarray, v: np.ndarray, dt: float, eps_sq: float):\n",
    "    \"\"\"Take one step using the leapfrog integrator, formulated\n",
    "    as a mapping from t to t + dt.  WARNING: this integrator is not\n",
    "    accurate unless the timestep dt is fixed from one call to another.\n",
    "\n",
    "    Args:\n",
    "        m (array of shape (N,)): mass of all points\n",
    "        x (array of shape (N, 3)): coordinate of all points\n",
    "        v (array of shape (N, 3)): velocities of all points\n",
    "        dt (float): timestep for integration\n",
    "        eps_sq (float): softening parameter (epsilon^2)\n",
    "    \"\"\"\n",
    "    v += 0.5 * dt * accel(m, x, eps_sq) # advance vel by half-step\n",
    "    x += dt * v # advance pos by full-step\n",
    "    v += 0.5 * dt * accel(m, x, eps_sq) # complete velocity step\n"
   ]
  },
  {
   "cell_type": "code",
   "execution_count": 37,
   "metadata": {},
   "outputs": [],
   "source": [
    "def save_state(m, x, tnow):\n",
    "    \"\"\"Save the current state to file.\n",
    "\n",
    "    Args:\n",
    "        m (array of shape (N,)): masses of all points\n",
    "        x (array of shape (N, 3)): positions of all points\n",
    "        tnow (float): current time, in seconds\n",
    "    \"\"\"\n",
    "    with open(\"leapint.py.data\", \"a\") as f:\n",
    "        for i in range(len(m)):  # loop over all points...\n",
    "            f.write(\"%8.4f%12.6f%12.6f%12.6f%12.6f\\n\" % (tnow, m[i], x[i][0], x[i][1], x[i][2]))"
   ]
  },
  {
   "cell_type": "code",
   "execution_count": 45,
   "metadata": {},
   "outputs": [],
   "source": [
    "%%time\n",
    "\n",
    "n = 100 # number of points\n",
    "\n",
    "m = np.zeros(n)\n",
    "x = np.zeros((n, 3))\n",
    "v = np.zeros((n, 3))\n",
    "\n",
    "# read initial condition file\n",
    "with open(\"initc.data\", \"r\") as f:\n",
    "    content = f.readlines()\n",
    "\n",
    "# load header information\n",
    "header = content[0].split()\n",
    "dt = float(header[2]) # timestep for integration\n",
    "tmax = float(header[3]) # duration of the simulation\n",
    "eps_sq = float(header[4]) # softening parameter (epsilon^2)\n",
    "\n",
    "# load n-body initial conditions\n",
    "for i in range(n):\n",
    "    line = content[i + 1].split()\n",
    "    m[i] = float(line[0])\n",
    "    x[i, :] = [float(line[1]), float(line[2]), float(line[3])]\n",
    "    v[i, :] = [float(line[4]), float(line[5]), float(line[6])]\n",
    "\n",
    "# next, set integration parameters\n",
    "tnow = 0.0  # set initial time\n",
    "mstep = int(tmax / dt)  # number of steps to take\n",
    "\n",
    "# delete old output if it exists\n",
    "if os.path.exists(\"leapint.py.data\"):\n",
    "    os.remove(\"leapint.py.data\")\n",
    "\n",
    "# now, loop performing integration\n",
    "for nstep in range(mstep):  # loop mstep times in all\n",
    "    leapstep(m, x, v, dt, eps_sq)  # take integration step\n",
    "    tnow = tnow + dt  # and update value of time\n",
    "    save_state(m, x, tnow)  # then output last step"
   ]
  },
  {
   "attachments": {},
   "cell_type": "markdown",
   "metadata": {},
   "source": [
    "# Plot the Results of the N-body Simulation with Python"
   ]
  },
  {
   "cell_type": "code",
   "execution_count": 46,
   "metadata": {},
   "outputs": [],
   "source": [
    "# load data\n",
    "# sphere.data has lines structured as mass, x, y, z\n",
    "t, m, x, y, z = [], [], [], [], []\n",
    "with open('leapint.py.data', \"r\") as f:\n",
    "    for line in f.readlines():\n",
    "        data = line.split()\n",
    "        t.append(float(data[0]))\n",
    "        m.append(float(data[1]))\n",
    "        x.append(float(data[2]))\n",
    "        y.append(float(data[3]))\n",
    "        z.append(float(data[4]))"
   ]
  },
  {
   "cell_type": "code",
   "execution_count": 50,
   "metadata": {},
   "outputs": [],
   "source": [
    "num_bodies = 100\n",
    "num_steps = len(m) // num_bodies\n",
    "\n",
    "# delete old plots\n",
    "for file in os.listdir('build'):\n",
    "    if file.startswith('py_'):\n",
    "        os.remove(os.path.join('build', file))\n",
    "\n",
    "# save plots of frames\n",
    "for i in range(num_steps):\n",
    "    plt.figure(figsize=(10, 10))\n",
    "    plt.scatter(x[i*num_bodies:(i+1)*num_bodies], y[i*num_bodies:(i+1)*num_bodies], s=1)\n",
    "    plt.xlim(-1, 1)\n",
    "    plt.ylim(-1, 1)\n",
    "    plt.title(f'time = {t[i*num_bodies]:.2f}')\n",
    "    plt.savefig(f'build/py_{i:03d}.png')\n",
    "    plt.close()"
   ]
  },
  {
   "cell_type": "code",
   "execution_count": 51,
   "metadata": {},
   "outputs": [
    {
     "name": "stdout",
     "output_type": "stream",
     "text": [
      "ffmpeg version 5.0.1 Copyright (c) 2000-2022 the FFmpeg developers\n",
      "  built with Apple clang version 13.1.6 (clang-1316.0.21.2)\n",
      "  configuration: --prefix=/opt/homebrew/Cellar/ffmpeg/5.0.1 --enable-shared --enable-pthreads --enable-version3 --cc=clang --host-cflags= --host-ldflags= --enable-ffplay --enable-gnutls --enable-gpl --enable-libaom --enable-libbluray --enable-libdav1d --enable-libmp3lame --enable-libopus --enable-librav1e --enable-librist --enable-librubberband --enable-libsnappy --enable-libsrt --enable-libtesseract --enable-libtheora --enable-libvidstab --enable-libvmaf --enable-libvorbis --enable-libvpx --enable-libwebp --enable-libx264 --enable-libx265 --enable-libxml2 --enable-libxvid --enable-lzma --enable-libfontconfig --enable-libfreetype --enable-frei0r --enable-libass --enable-libopencore-amrnb --enable-libopencore-amrwb --enable-libopenjpeg --enable-libspeex --enable-libsoxr --enable-libzmq --enable-libzimg --disable-libjack --disable-indev=jack --enable-videotoolbox --enable-neon\n",
      "  libavutil      57. 17.100 / 57. 17.100\n",
      "  libavcodec     59. 18.100 / 59. 18.100\n",
      "  libavformat    59. 16.100 / 59. 16.100\n",
      "  libavdevice    59.  4.100 / 59.  4.100\n",
      "  libavfilter     8. 24.100 /  8. 24.100\n",
      "  libswscale      6.  4.100 /  6.  4.100\n",
      "  libswresample   4.  3.100 /  4.  3.100\n",
      "  libpostproc    56.  3.100 / 56.  3.100\n",
      "Input #0, image2, from 'build/py_%03d.png':\n",
      "  Duration: 00:00:08.00, start: 0.000000, bitrate: N/A\n",
      "  Stream #0:0: Video: png, rgba(pc), 720x720 [SAR 2835:2835 DAR 1:1], 25 fps, 25 tbr, 25 tbn\n",
      "Stream mapping:\n",
      "  Stream #0:0 -> #0:0 (png (native) -> h264 (libx264))\n",
      "Press [q] to stop, [?] for help\n",
      "\u001b[1;36m[libx264 @ 0x144705370] \u001b[0musing SAR=1/1\n",
      "\u001b[1;36m[libx264 @ 0x144705370] \u001b[0musing cpu capabilities: ARMv8 NEON\n",
      "\u001b[1;36m[libx264 @ 0x144705370] \u001b[0mprofile High 4:4:4 Predictive, level 3.1, 4:4:4, 8-bit\n",
      "\u001b[1;36m[libx264 @ 0x144705370] \u001b[0m264 - core 163 r3060 5db6aa6 - H.264/MPEG-4 AVC codec - Copyleft 2003-2021 - http://www.videolan.org/x264.html - options: cabac=1 ref=3 deblock=1:0:0 analyse=0x3:0x113 me=hex subme=7 psy=1 psy_rd=1.00:0.00 mixed_ref=1 me_range=16 chroma_me=1 trellis=1 8x8dct=1 cqm=0 deadzone=21,11 fast_pskip=1 chroma_qp_offset=4 threads=15 lookahead_threads=2 sliced_threads=0 nr=0 decimate=1 interlaced=0 bluray_compat=0 constrained_intra=0 bframes=3 b_pyramid=2 b_adapt=1 b_bias=0 direct=1 weightb=1 open_gop=0 weightp=2 keyint=250 keyint_min=25 scenecut=40 intra_refresh=0 rc_lookahead=40 rc=crf mbtree=1 crf=23.0 qcomp=0.60 qpmin=0 qpmax=69 qpstep=4 ip_ratio=1.40 aq=1:1.00\n",
      "Output #0, mp4, to 'build/py.mp4':\n",
      "  Metadata:\n",
      "    encoder         : Lavf59.16.100\n",
      "  Stream #0:0: Video: h264 (avc1 / 0x31637661), yuv444p(tv, progressive), 720x720 [SAR 1:1 DAR 1:1], q=2-31, 30 fps, 15360 tbn\n",
      "    Metadata:\n",
      "      encoder         : Lavc59.18.100 libx264\n",
      "    Side data:\n",
      "      cpb: bitrate max/min/avg: 0/0/0 buffer size: 0 vbv_delay: N/A\n",
      "frame=  200 fps=0.0 q=-1.0 Lsize=      89kB time=00:00:06.56 bitrate= 110.8kbits/s speed=13.1x    \n",
      "video:86kB audio:0kB subtitle:0kB other streams:0kB global headers:0kB muxing overhead: 3.605975%\n",
      "\u001b[1;36m[libx264 @ 0x144705370] \u001b[0mframe I:1     Avg QP:21.57  size:  6042\n",
      "\u001b[1;36m[libx264 @ 0x144705370] \u001b[0mframe P:71    Avg QP:17.59  size:   625\n",
      "\u001b[1;36m[libx264 @ 0x144705370] \u001b[0mframe B:128   Avg QP:23.71  size:   286\n",
      "\u001b[1;36m[libx264 @ 0x144705370] \u001b[0mconsecutive B-frames: 10.0% 12.0%  6.0% 72.0%\n",
      "\u001b[1;36m[libx264 @ 0x144705370] \u001b[0mmb I  I16..4:  6.5% 85.9%  7.6%\n",
      "\u001b[1;36m[libx264 @ 0x144705370] \u001b[0mmb P  I16..4:  0.3%  0.3%  0.3%  P16..4:  1.0%  0.6%  0.3%  0.0%  0.0%    skip:97.2%\n",
      "\u001b[1;36m[libx264 @ 0x144705370] \u001b[0mmb B  I16..4:  0.0%  0.1%  0.0%  B16..8:  2.2%  0.6%  0.2%  direct: 0.0%  skip:97.0%  L0:50.3% L1:47.3% BI: 2.4%\n",
      "\u001b[1;36m[libx264 @ 0x144705370] \u001b[0m8x8 transform intra:65.3% inter:5.8%\n",
      "\u001b[1;36m[libx264 @ 0x144705370] \u001b[0mcoded y,u,v intra: 7.9% 5.2% 5.2% inter: 0.2% 0.1% 0.1%\n",
      "\u001b[1;36m[libx264 @ 0x144705370] \u001b[0mi16 v,h,dc,p: 79% 18%  3%  0%\n",
      "\u001b[1;36m[libx264 @ 0x144705370] \u001b[0mi8 v,h,dc,ddl,ddr,vr,hd,vl,hu: 58%  4% 38%  0%  0%  0%  0%  0%  0%\n",
      "\u001b[1;36m[libx264 @ 0x144705370] \u001b[0mi4 v,h,dc,ddl,ddr,vr,hd,vl,hu: 30% 18% 44%  2%  3%  1%  1%  1%  1%\n",
      "\u001b[1;36m[libx264 @ 0x144705370] \u001b[0mWeighted P-Frames: Y:0.0% UV:0.0%\n",
      "\u001b[1;36m[libx264 @ 0x144705370] \u001b[0mref P L0: 71.1%  1.9% 18.0%  9.0%\n",
      "\u001b[1;36m[libx264 @ 0x144705370] \u001b[0mref B L0: 83.4% 13.5%  3.0%\n",
      "\u001b[1;36m[libx264 @ 0x144705370] \u001b[0mref B L1: 96.9%  3.1%\n",
      "\u001b[1;36m[libx264 @ 0x144705370] \u001b[0mkb/s:104.50\n"
     ]
    }
   ],
   "source": [
    "# create video\n",
    "!ffmpeg -r 30 -i build/py_%03d.png build/py.mp4 -y -loglevel error"
   ]
  },
  {
   "cell_type": "code",
   "execution_count": 52,
   "metadata": {},
   "outputs": [
    {
     "data": {
      "text/html": [
       "<video src=\"build/py.mp4\" controls  >\n",
       "      Your browser does not support the <code>video</code> element.\n",
       "    </video>"
      ],
      "text/plain": [
       "<IPython.core.display.Video object>"
      ]
     },
     "execution_count": 52,
     "metadata": {},
     "output_type": "execute_result"
    }
   ],
   "source": [
    "# show video\n",
    "ipd.Video('build/py.mp4')"
   ]
  },
  {
   "attachments": {},
   "cell_type": "markdown",
   "metadata": {},
   "source": [
    "# N-Body Simulation with Aarseth's Code"
   ]
  },
  {
   "attachments": {},
   "cell_type": "markdown",
   "metadata": {},
   "source": [
    "Run \n",
    "\n",
    "```\n",
    "gcc nbody0-lab.c -o nbody0-lab.out -lm\n",
    "./nbody0-lab.out\n",
    "```\n",
    "\n",
    "in the terminal."
   ]
  },
  {
   "cell_type": "markdown",
   "metadata": {},
   "source": [
    "# Plot the Results of the N-body Simulation from Aarseth's Code"
   ]
  },
  {
   "cell_type": "code",
   "execution_count": 60,
   "metadata": {},
   "outputs": [
    {
     "name": "stdout",
     "output_type": "stream",
     "text": [
      "ffmpeg version 5.0.1 Copyright (c) 2000-2022 the FFmpeg developers\n",
      "  built with Apple clang version 13.1.6 (clang-1316.0.21.2)\n",
      "  configuration: --prefix=/opt/homebrew/Cellar/ffmpeg/5.0.1 --enable-shared --enable-pthreads --enable-version3 --cc=clang --host-cflags= --host-ldflags= --enable-ffplay --enable-gnutls --enable-gpl --enable-libaom --enable-libbluray --enable-libdav1d --enable-libmp3lame --enable-libopus --enable-librav1e --enable-librist --enable-librubberband --enable-libsnappy --enable-libsrt --enable-libtesseract --enable-libtheora --enable-libvidstab --enable-libvmaf --enable-libvorbis --enable-libvpx --enable-libwebp --enable-libx264 --enable-libx265 --enable-libxml2 --enable-libxvid --enable-lzma --enable-libfontconfig --enable-libfreetype --enable-frei0r --enable-libass --enable-libopencore-amrnb --enable-libopencore-amrwb --enable-libopenjpeg --enable-libspeex --enable-libsoxr --enable-libzmq --enable-libzimg --disable-libjack --disable-indev=jack --enable-videotoolbox --enable-neon\n",
      "  libavutil      57. 17.100 / 57. 17.100\n",
      "  libavcodec     59. 18.100 / 59. 18.100\n",
      "  libavformat    59. 16.100 / 59. 16.100\n",
      "  libavdevice    59.  4.100 / 59.  4.100\n",
      "  libavfilter     8. 24.100 /  8. 24.100\n",
      "  libswscale      6.  4.100 /  6.  4.100\n",
      "  libswresample   4.  3.100 /  4.  3.100\n",
      "  libpostproc    56.  3.100 / 56.  3.100\n",
      "Input #0, image2, from 'build/aarseth_%03d.png':\n",
      "  Duration: 00:00:08.04, start: 0.000000, bitrate: N/A\n",
      "  Stream #0:0: Video: png, rgba(pc), 720x720 [SAR 2835:2835 DAR 1:1], 25 fps, 25 tbr, 25 tbn\n",
      "Stream mapping:\n",
      "  Stream #0:0 -> #0:0 (png (native) -> h264 (libx264))\n",
      "Press [q] to stop, [?] for help\n",
      "\u001b[1;36m[libx264 @ 0x13f105330] \u001b[0musing SAR=1/1\n",
      "\u001b[1;36m[libx264 @ 0x13f105330] \u001b[0musing cpu capabilities: ARMv8 NEON\n",
      "\u001b[1;36m[libx264 @ 0x13f105330] \u001b[0mprofile High 4:4:4 Predictive, level 3.1, 4:4:4, 8-bit\n",
      "\u001b[1;36m[libx264 @ 0x13f105330] \u001b[0m264 - core 163 r3060 5db6aa6 - H.264/MPEG-4 AVC codec - Copyleft 2003-2021 - http://www.videolan.org/x264.html - options: cabac=1 ref=3 deblock=1:0:0 analyse=0x3:0x113 me=hex subme=7 psy=1 psy_rd=1.00:0.00 mixed_ref=1 me_range=16 chroma_me=1 trellis=1 8x8dct=1 cqm=0 deadzone=21,11 fast_pskip=1 chroma_qp_offset=4 threads=15 lookahead_threads=2 sliced_threads=0 nr=0 decimate=1 interlaced=0 bluray_compat=0 constrained_intra=0 bframes=3 b_pyramid=2 b_adapt=1 b_bias=0 direct=1 weightb=1 open_gop=0 weightp=2 keyint=250 keyint_min=25 scenecut=40 intra_refresh=0 rc_lookahead=40 rc=crf mbtree=1 crf=23.0 qcomp=0.60 qpmin=0 qpmax=69 qpstep=4 ip_ratio=1.40 aq=1:1.00\n",
      "Output #0, mp4, to 'build/aarseth.mp4':\n",
      "  Metadata:\n",
      "    encoder         : Lavf59.16.100\n",
      "  Stream #0:0: Video: h264 (avc1 / 0x31637661), yuv444p(tv, progressive), 720x720 [SAR 1:1 DAR 1:1], q=2-31, 30 fps, 15360 tbn\n",
      "    Metadata:\n",
      "      encoder         : Lavc59.18.100 libx264\n",
      "    Side data:\n",
      "      cpb: bitrate max/min/avg: 0/0/0 buffer size: 0 vbv_delay: N/A\n",
      "frame=  201 fps=0.0 q=-1.0 Lsize=     866kB time=00:00:06.60 bitrate=1075.3kbits/s speed=9.22x    \n",
      "video:863kB audio:0kB subtitle:0kB other streams:0kB global headers:0kB muxing overhead: 0.371234%\n",
      "\u001b[1;36m[libx264 @ 0x13f105330] \u001b[0mframe I:1     Avg QP:19.34  size: 16770\n",
      "\u001b[1;36m[libx264 @ 0x13f105330] \u001b[0mframe P:53    Avg QP:21.21  size:  5204\n",
      "\u001b[1;36m[libx264 @ 0x13f105330] \u001b[0mframe B:147   Avg QP:25.24  size:  4017\n",
      "\u001b[1;36m[libx264 @ 0x13f105330] \u001b[0mconsecutive B-frames:  1.5%  3.0%  0.0% 95.5%\n",
      "\u001b[1;36m[libx264 @ 0x13f105330] \u001b[0mmb I  I16..4: 24.8% 61.4% 13.7%\n",
      "\u001b[1;36m[libx264 @ 0x13f105330] \u001b[0mmb P  I16..4:  0.4%  1.9%  3.6%  P16..4:  1.5%  0.8%  0.6%  0.0%  0.0%    skip:91.2%\n",
      "\u001b[1;36m[libx264 @ 0x13f105330] \u001b[0mmb B  I16..4:  0.0%  0.4%  1.0%  B16..8:  4.6%  1.9%  1.3%  direct: 0.3%  skip:90.5%  L0:49.7% L1:45.4% BI: 5.0%\n",
      "\u001b[1;36m[libx264 @ 0x13f105330] \u001b[0m8x8 transform intra:35.8% inter:8.6%\n",
      "\u001b[1;36m[libx264 @ 0x13f105330] \u001b[0mcoded y,u,v intra: 49.6% 42.6% 43.2% inter: 2.0% 1.0% 1.2%\n",
      "\u001b[1;36m[libx264 @ 0x13f105330] \u001b[0mi16 v,h,dc,p: 73% 23%  4%  0%\n",
      "\u001b[1;36m[libx264 @ 0x13f105330] \u001b[0mi8 v,h,dc,ddl,ddr,vr,hd,vl,hu: 25%  6% 51%  3%  3%  3%  3%  3%  3%\n",
      "\u001b[1;36m[libx264 @ 0x13f105330] \u001b[0mi4 v,h,dc,ddl,ddr,vr,hd,vl,hu: 27% 15% 33%  5%  6%  4%  4%  3%  4%\n",
      "\u001b[1;36m[libx264 @ 0x13f105330] \u001b[0mWeighted P-Frames: Y:0.0% UV:0.0%\n",
      "\u001b[1;36m[libx264 @ 0x13f105330] \u001b[0mref P L0: 61.1%  6.1% 19.6% 13.2%\n",
      "\u001b[1;36m[libx264 @ 0x13f105330] \u001b[0mref B L0: 76.2% 19.7%  4.2%\n",
      "\u001b[1;36m[libx264 @ 0x13f105330] \u001b[0mref B L1: 90.4%  9.6%\n",
      "\u001b[1;36m[libx264 @ 0x13f105330] \u001b[0mkb/s:1054.47\n"
     ]
    },
    {
     "data": {
      "text/html": [
       "<video src=\"build/aarseth.mp4\" controls  >\n",
       "      Your browser does not support the <code>video</code> element.\n",
       "    </video>"
      ],
      "text/plain": [
       "<IPython.core.display.Video object>"
      ]
     },
     "execution_count": 60,
     "metadata": {},
     "output_type": "execute_result"
    }
   ],
   "source": [
    "# load data\n",
    "# sphere.data has lines structured as mass, x, y, z\n",
    "t, m, x, y, z = [], [], [], [], []\n",
    "with open('sphere.data', \"r\") as f:\n",
    "    for line in f.readlines():\n",
    "        data = line.split()\n",
    "        t.append(float(data[0]))\n",
    "        m.append(float(data[1]))\n",
    "        x.append(float(data[2]))\n",
    "        y.append(float(data[3]))\n",
    "        z.append(float(data[4]))\n",
    "\n",
    "num_bodies = 2000\n",
    "num_steps = len(m) // num_bodies\n",
    "\n",
    "# delete old plots\n",
    "for file in os.listdir('build'):\n",
    "    if file.startswith('aarseth_'):\n",
    "        os.remove(os.path.join('build', file))\n",
    "\n",
    "# save plots of frames\n",
    "for i in range(num_steps):\n",
    "    plt.figure(figsize=(10, 10))\n",
    "    plt.scatter(x[i*num_bodies:(i+1)*num_bodies], y[i*num_bodies:(i+1)*num_bodies], s=1)\n",
    "    plt.xlim(-1, 1)\n",
    "    plt.ylim(-1, 1)\n",
    "    plt.title(f'time = {t[i*num_bodies]:.2f} s')\n",
    "    plt.savefig(f'build/aarseth_{i:03d}.png')\n",
    "    plt.close()\n",
    "\n",
    "# create video\n",
    "!ffmpeg -r 30 -i build/aarseth_%03d.png build/aarseth.mp4 -y -loglevel error\n",
    "\n",
    "# show video\n",
    "ipd.Video('build/aarseth.mp4')"
   ]
  },
  {
   "cell_type": "code",
   "execution_count": null,
   "metadata": {},
   "outputs": [],
   "source": []
  }
 ],
 "metadata": {
  "kernelspec": {
   "display_name": "playground",
   "language": "python",
   "name": "python3"
  },
  "language_info": {
   "codemirror_mode": {
    "name": "ipython",
    "version": 3
   },
   "file_extension": ".py",
   "mimetype": "text/x-python",
   "name": "python",
   "nbconvert_exporter": "python",
   "pygments_lexer": "ipython3",
   "version": "3.10.4"
  },
  "orig_nbformat": 4
 },
 "nbformat": 4,
 "nbformat_minor": 2
}
