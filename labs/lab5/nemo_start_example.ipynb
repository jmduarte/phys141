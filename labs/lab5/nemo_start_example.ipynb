{
 "cells": [
  {
   "cell_type": "markdown",
   "metadata": {},
   "source": [
    "# Running NEMO in a jupyter notebook\n",
    "\n",
    "This notebook will help you getting started with [NEMO](https://teuben.github.io/nemo/) in a jupyter notebook!\n",
    "\n",
    "NEMO is a package that consists of [a set of \n",
    "compiled executables](https://teuben.github.io/nemo/man_html/index1.html) that run in a Unix environment. Normally you would issue commands in a terminal (shell), or via a script. Parameters are passed to the programs, and data are stored in files or passed via unix pipes.\n",
    "But since NEMO version 4.1.2 there is some better support to use NEMO commands in a jupyter notebook.    There are a few ways to use these into a notebook, with currently a few limitations. Here we are exploring some, but watch out for future changes. For now we are also limited to Python.\n",
    "\n",
    "When NEMO was installed, the file **nemo_start.py** was also created. This file will need to be locally present, so we can import it, or copied into your python's sys.path, or your site-packages. This is the best way to make sure to inherit the environment in a portable way.\n",
    "\n",
    "Here is our currently suggested way to set up your python shell for NEMO, one simple **import**:"
   ]
  },
  {
   "cell_type": "code",
   "execution_count": 1,
   "metadata": {},
   "outputs": [
    {
     "name": "stdout",
     "output_type": "stream",
     "text": [
      "Loading NEMO=/home/teuben/NEMO/nemo  VERSION 4.1.7\n"
     ]
    }
   ],
   "source": [
    "import nemo_start"
   ]
  },
  {
   "cell_type": "markdown",
   "metadata": {},
   "source": [
    "Then we add a few common imports, for plotting in this case."
   ]
  },
  {
   "cell_type": "code",
   "execution_count": 2,
   "metadata": {},
   "outputs": [],
   "source": [
    "import numpy as np\n",
    "%matplotlib inline\n",
    "import matplotlib.pyplot as plt"
   ]
  },
  {
   "cell_type": "markdown",
   "metadata": {},
   "source": [
    "There are several ways to run NEMO commands. We take an example of creating a plummer sphere with 10 particles and a known seed so we always know the answer. We then look at the phase space coordinated of these 10 bodies. We need two programs:  **mkplummer** and **snapprint**   (for the old timers:   **snapplot** does not work in notebooks since it creates a PNG, PS or X-display)\n",
    "\n",
    "So, first lets look at the keywords that these programs have:"
   ]
  },
  {
   "cell_type": "code",
   "execution_count": 3,
   "metadata": {},
   "outputs": [
    {
     "name": "stdout",
     "output_type": "stream",
     "text": [
      "out              : Output file name [???]\r\n",
      "nbody            : Number of particles [???]\r\n",
      "mlow             : Low mass fraction cutoff of Plummer dist [0]\r\n",
      "mfrac            : Mass fraction used of Plummer distribution [0.999]\r\n",
      "rfrac            : Radius fraction used of Plummer distribution\r\n",
      "                              NOTE: the above two values are chosen so\r\n",
      "                                    that m( rfrac ) = mfrac                 [22.8042468]\r\n",
      "seed             : Seed for the random number generator [0]\r\n",
      "time             : Time at which snapshot is taken [0.0]\r\n",
      "zerocm           : Centrate snapshot (t/f)? [t]\r\n",
      "scale            : Model scale factor (-1=virial 1=natural) [-1]\r\n",
      "quiet            : 0=noisy 1=somewhat quiet 2=more quiet [0]\r\n",
      "massname         : If used Mass-function name (e.g. n(m)) []\r\n",
      "massexpr         : Mass function expression (e.g. pow(m,p)) [pow(m,p)]\r\n",
      "masspars         : Mass function parameters (e.g. p,0.0) [p,0.0]\r\n",
      "massrange        : Range for mass-spectrum (e.g. 1,2) [1,1]\r\n",
      "headline         : Verbiage for output []\r\n",
      "nmodel           : number of models to produce [1]\r\n",
      "mode             : 0=no data,  1=data, no analysis 2=data, analysis [1]\r\n",
      "VERSION          : 5-nov-2018 PJT [3.0]\r\n"
     ]
    }
   ],
   "source": [
    "!mkplummer help=h"
   ]
  },
  {
   "cell_type": "code",
   "execution_count": 4,
   "metadata": {},
   "outputs": [
    {
     "name": "stdout",
     "output_type": "stream",
     "text": [
      "in               : Input file (snapshot) [???]\r\n",
      "options          : Things to output [x,y,z,vx,vy,vz]\r\n",
      "format           : Format used to output numbers [%g]\r\n",
      "separ            : Special table of interparticle distances [0]\r\n",
      "times            : Times to select snapshot [all]\r\n",
      "tab              : Standard output or table file? []\r\n",
      "header           : Add header (nbody,time)to output? [f]\r\n",
      "newline          : add newline in the header? [f]\r\n",
      "csv              : Use Comma Separated Values format [f]\r\n",
      "comment          : Add table columns as common, instead of debug [f]\r\n",
      "VERSION          : 24-feb-04 PJT [2.4]\r\n"
     ]
    }
   ],
   "source": [
    "!snapprint help=h"
   ]
  },
  {
   "cell_type": "code",
   "execution_count": 5,
   "metadata": {},
   "outputs": [
    {
     "name": "stdout",
     "output_type": "stream",
     "text": [
      "MKPLUMMER(1NEMO)                                              MKPLUMMER(1NEMO)\r\n",
      "\r\n",
      "N\bNA\bAM\bME\bE\r\n",
      "       mkplummer - generates a snapshot according to a truncated Plummer model\r\n",
      "\r\n",
      "S\bSY\bYN\bNO\bOP\bPS\bSI\bIS\bS\r\n",
      "       m\bmk\bkp\bpl\blu\bum\bmm\bme\ber\br [parameters=values...]\r\n",
      "\r\n",
      "D\bDE\bES\bSC\bCR\bRI\bIP\bPT\bTI\bIO\bON\bN\r\n",
      "       _\bm_\bk_\bp_\bl_\bu_\bm_\bm_\be_\br  constructs  a Plummer model, with a spatial or mass cut-off,\r\n",
      "       after which it performs a coordinate transformation to  the  center-of-\r\n",
      "       mass  coordinate  system.  The  data are then written into a file _\bs_\bn_\ba_\bp_\b-\r\n",
      "       _\bf_\bi_\bl_\be, in a standard N-body snapshot format.  The model  is  constructed\r\n",
      "       in  VIRIAL  units (M=G=-4E=1, with E the total energy), and finite spa‐\r\n",
      "       tial extent which can be regulated by  specifying  _\bm_\bf_\br_\ba_\bc  or  _\br_\bf_\br_\ba_\bc  or\r\n",
      "       using  their  default  values.   The distribution function of a Plummer\r\n",
      "       model is spherically symmetric and isotropic, and  is  a  polytrope  of\r\n",
      "       index n = 5.  See also Aarseth et al. (1974) and Plummer (1911)\r\n",
      "\r\n",
      "       There is also an implementation in Dehnen's falcON suite: _\bm_\bk_\bp_\bl_\bu_\bm_\b(_\b1_\bN_\bE_\bM_\bO_\b)\r\n",
      "\r\n",
      "P\bPA\bAR\bRA\bAM\bME\bET\bTE\bER\bRS\bS\r\n",
      "       The  following  parameters  are  recognized;  they  may be given in any\r\n",
      "       order.\r\n",
      "\r\n",
      "       o\bou\but\bt=\b=_\bs_\bn_\ba_\bp_\bf_\bi_\bl_\be             Output data is written into _\bs_\bn_\ba_\bp_\bf_\bi_\bl_\be, in stan‐\r\n",
      "                                dard snapshot format.\r\n",
      "\r\n",
      "       n\bnb\bbo\bod\bdy\by=\b=_\bi_\bn_\bt_\be_\bg_\be_\br            Number  of  particles  _\bn_\bo_\bb_\bj  in Nbody snapshot\r\n",
      "                                realization of the Plummer model.\r\n",
      "\r\n",
      "       m\bml\blo\bow\bw=\b=_\br_\be_\ba_\bl                inner core mass fraction within which no stars\r\n",
      "                                will be populated.  (Default: 0)\r\n",
      "\r\n",
      "       m\bmf\bfr\bra\bac\bc=\b=_\br_\be_\ba_\bl               mass  fraction  of  the  (infinitely extended)\r\n",
      "                                Plummer model; see   rfrac  immediately  below\r\n",
      "                                (Default: _\br_\bf_\br_\ba_\bc=22.8042468).\r\n",
      "\r\n",
      "       r\brf\bfr\bra\bac\bc=\b=_\br_\be_\ba_\bl               radius  fraction  of the (infinitely extended)\r\n",
      "                                Plummer model. If _\bm_\bf_\br_\ba_\bc _\b= _\b1_\b._\b0  then  particles\r\n",
      "                                will  be sprinkled in all over space. If _\bm_\bf_\br_\ba_\bc\r\n",
      "                                < 1.0 or _\br_\bf_\br_\ba_\bc > 0.0  then  each  particle  is\r\n",
      "                                constrained  to lie within both the radial and\r\n",
      "                                (cumulative)  mass  bound.   For  example,  if\r\n",
      "                                _\br_\bf_\br_\ba_\bc(  _\bm_\bf_\br_\ba_\bc ) > _\br_\bf_\br_\ba_\bc then _\br_\bf_\br_\ba_\bc is the lim‐\r\n",
      "                                iting factor, but if _\br_\bf_\br_\ba_\bc( _\bm_\bf_\br_\ba_\bc  )  <  _\br_\bf_\br_\ba_\bc\r\n",
      "                                then  _\bm_\bf_\br_\ba_\bc  limits  the extent of the Plummer\r\n",
      "                                realization.  Note:  specifying  either  value\r\n",
      "                                may have no effect if the default value of the\r\n",
      "                                other parameter is still the limiting  factor;\r\n",
      "                                Beware!         (Default:         _\bm_\bf_\br_\ba_\bc=0.999;\r\n",
      "                                _\br_\bf_\br_\ba_\bc=22.8042468 , chosen so that the  cumula‐\r\n",
      "                                tive mass at _\br_\bf_\br_\ba_\bc is _\bm_\bf_\br_\ba_\bc).\r\n",
      "\r\n",
      "       s\bse\bee\bed\bd=\b=_\bi_\bn_\bt_\be_\bg_\be_\br             seed for the random number generator (default:\r\n",
      "                                a value 0, which  will  be  converted  into  a\r\n",
      "                                unique  new  value using UNIX's clock time, in\r\n",
      "                                seconds  since  once-upon-a-time-in-the-seven‐\r\n",
      "                                ties).\r\n",
      "\r\n",
      "       t\bti\bim\bme\be=\b=_\bt_\bi_\bm_\be                Time  at  which the snapshot applies (default:\r\n",
      "                                _\bt_\bi_\bm_\be=0.0).\r\n",
      "\r\n",
      "       z\bze\ber\bro\boc\bcm\bm=\b=t\bt|\b|f\bf               Reset center of mass to zero? [default: t\bt].\r\n",
      "\r\n",
      "       s\bsc\bca\bal\ble\be=\b=_\bs_\bc_\ba_\bl_\be_\b__\bf_\ba_\bc_\bt_\bo_\br       A  scale  factor  or  scale  to  virial  units\r\n",
      "                                (M=G=-4E=1). Use -1 for virial units, and 1 to\r\n",
      "                                get a model  in  structural  (natural)  units.\r\n",
      "                                Note:  large scale factors means small systems\r\n",
      "                                with large velocity disperson.  [Default: -\b-1\b1].\r\n",
      "\r\n",
      "       q\bqu\bui\bit\bt=\b=_\bl_\be_\bv_\be_\bl               Level of quit start. 0  is  noisy,  1=somewhat\r\n",
      "                                quiet, 2=more quiet [default: 0\b0].\r\n",
      "\r\n",
      "       m\bma\bas\bss\bsn\bna\bam\bme\be=\b=_\bn_\ba_\bm_\be            Identification  of  the  mass  spectrum. It is\r\n",
      "                                normally only a function of mass, so n\bn(\b(m\bm)\b) will\r\n",
      "                                suffice.  If nothing specified, all stars will\r\n",
      "                                have the same mass (total mass M=1). [default:\r\n",
      "                                not used].\r\n",
      "\r\n",
      "       m\bma\bas\bss\bse\bex\bxp\bpr\br=\b=_\be_\bx_\bp_\br            Expression  for the mass-spectrum. In addition\r\n",
      "                                to the mass _\bm from the m\bma\bas\bss\bsn\bna\bam\bme\be it may contain\r\n",
      "                                any  variables contained in the m\bma\bas\bss\bsp\bpa\bar\brs\bs to be\r\n",
      "                                specified next. [default: p\bpo\bow\bw(\b(m\bm,\b,p\bp)\b)].\r\n",
      "\r\n",
      "       m\bma\bas\bss\bsp\bpa\bar\brs\bs=\b=_\bp_\ba_\br_\bs            List of parameters and their values. They  can\r\n",
      "                                be  used  by  name  in  the m\bma\bas\bss\bse\bex\bxp\bpr\br specified\r\n",
      "                                before. [default: p\bp,\b,0\b0.\b.0\b0].\r\n",
      "\r\n",
      "       m\bma\bas\bss\bsr\bra\ban\bng\bge\be=\b=_\bm_\bl_\bo_\bw_\b,_\bm_\bh_\bi_\bg_\bh     Valid massrange. A  lower  and  higher  cutoff\r\n",
      "                                must  be supplied. The massrange has arbitrary\r\n",
      "                                units, since all masses will  be  rescaled  to\r\n",
      "                                set the total mass M=1. [default: 1\b1,\b,1\b1].\r\n",
      "\r\n",
      "       h\bhe\bea\bad\bdl\bli\bin\bne\be=\b=_\bs_\bt_\br_\bi_\bn_\bg          Optional  headline,  which  is  written as the\r\n",
      "                                first item in the snapshot file, the next item\r\n",
      "                                being   the  snapshot  itself.  [default:  not\r\n",
      "                                used].\r\n",
      "\r\n",
      "       n\bnm\bmo\bod\bde\bel\bl=\b=_\bi_\bn_\bt_\be_\bg_\be_\br           Number of models to generate. Although  mostly\r\n",
      "                                meant  for  benchmarks, generating more then 1\r\n",
      "                                model can be  useful  to  process  very  large\r\n",
      "                                snapshots  (which  won't  fit  in memory) in a\r\n",
      "                                serialized  fashion.   See   also   _\bs_\bn_\ba_\bp_\bs_\bp_\bl_\bi_\bt.\r\n",
      "                                Default: 1\b1.\r\n",
      "\r\n",
      "B\bBU\bUG\bGS\bS\r\n",
      "       A  non-delta  function mass-spectrum will not create a properly virial‐\r\n",
      "       ized system yet. See _\bs_\bn_\ba_\bp_\bv_\bi_\br_\bi_\ba_\bl_\b(_\b1_\bN_\bE_\bM_\bO_\b)\r\n",
      "\r\n",
      "       For very large (>1000) ratio in the mass ranges the  spline  interpola‐\r\n",
      "       tion, used in _\bf_\br_\ba_\bn_\bd_\bo_\bm_\b(_\b3_\bN_\bE_\bM_\bO_\b), can fail using a valid [0,1] range.\r\n",
      "\r\n",
      "E\bEX\bXA\bAM\bMP\bPL\bLE\bES\bS\r\n",
      "       mkplummer can also be used to create a plummer sphere with a mass spec‐\r\n",
      "       trum, e.g.  a Salpeter mass spectrum with\r\n",
      "         % mkplummer salpeter.dat 10000 massname='n(m)' massexpr='pow(m,p)' masspars=p,-2.35 massrange=0.1,10\r\n",
      "\r\n",
      "S\bSE\bEE\bE A\bAL\bLS\bSO\bO\r\n",
      "       snapvirial(1NEMO), mkplummer(3NEMO), snapmass(1NEMO), snapsplit(1NEM0),\r\n",
      "       mkplum(1NEMO), mcluster(1NEMO)\r\n",
      "\r\n",
      "       H.C.Plummer (1911), _\bM_\bN_\bR_\bA_\bS, 7\b71\b1, 460.\r\n",
      "\r\n",
      "       S.J.  Aarseth,  M.  Henon and R.  Wielen (1974), _\bA_\bs_\bt_\br_\bo_\bn_\b. _\ba_\bn_\bd _\bA_\bs_\bt_\br_\bo_\bp_\bh_\by_\bs_\b.\r\n",
      "       3\b37\b7_\b, _\bp_\b. _\b1_\b8_\b3_\b.\r\n",
      "\r\n",
      "       A.H.W. Kuepper, Th. Maschberger, P.  Kroupa  and  H.  Baumgardt,  2011,\r\n",
      "       MNRAS, 417, 2300 (McLuster)\r\n",
      "\r\n",
      "A\bAU\bUT\bTH\bHO\bOR\bR\r\n",
      "       Piet Hut (Peter Teuben)\r\n",
      "\r\n",
      "F\bFI\bIL\bLE\bES\bS\r\n",
      "       ~/src/nbody/init              mkplummer.c\r\n",
      "\r\n",
      "U\bUP\bPD\bDA\bAT\bTE\bE H\bHI\bIS\bST\bTO\bOR\bRY\bY\r\n",
      "       23-Apr-87 Version 1.0: created                         PIET\r\n",
      "       10-Jun-88 Version 1.1: created                         PIET\r\n",
      "       xx-xxx-88 V1.2: zerocm keyword added                   PJT\r\n",
      "       xx-Mar-89 V2.0: full new snapshot version              + doc PJT\r\n",
      "       15-nov-90 V2.3: mass-spectrum and cleanup              for NEMO 2.xPJT\r\n",
      "       6-jun-96  V2.5d: report total mass before scaling      PJT\r\n",
      "       21-mar-04 V2.7: added mlow=                            PJT+NCM\r\n",
      "       11-apr-05 V2.8: added nmodel=                          PJT\r\n",
      "       15-sep-10 V2.9: clarified rfrac and allow rfrac<0      PJT\r\n",
      "       2-dec-2017                                             documented mclusterPJT\r\n",
      "\r\n",
      "                               15 September 2010              MKPLUMMER(1NEMO)\r\n"
     ]
    }
   ],
   "source": [
    "!man mkplummer"
   ]
  },
  {
   "cell_type": "markdown",
   "metadata": {},
   "source": [
    "So, we have used the  **!** escape character to escape from python and issue a shell command directly.   Now we will use a pipe to take the output of mkplummer and pipe it into snapprint, which redirects the output table into a file, which we'll read with numpy a little later:"
   ]
  },
  {
   "cell_type": "code",
   "execution_count": 6,
   "metadata": {
    "scrolled": false
   },
   "outputs": [
    {
     "name": "stdout",
     "output_type": "stream",
     "text": [
      "### nemo Debug Info: x y z vx vy vz \n",
      "(10, 6)\n",
      "[[-0.609486  -0.221687  -0.450963  -0.0766784 -0.209397   0.396561 ]\n",
      " [ 4.80925   -0.486182  -1.52575    0.418474   0.117766   0.230193 ]\n",
      " [ 0.545314   0.0795464  0.0632245  0.0867019 -0.109128  -0.282036 ]\n",
      " [ 0.377209  -0.213318  -0.011833  -0.739982   0.649302  -0.0595349]\n",
      " [-0.0724005  0.706104   0.0899005  0.158021   0.0702185  0.316083 ]\n",
      " [-0.561212  -0.32416    1.18761    0.379356   0.257397   0.0247723]\n",
      " [-0.312291  -0.902718  -0.451821   0.669557  -0.463708  -0.117066 ]\n",
      " [ 0.36967    0.154617   0.681866  -0.0283658 -0.0937881 -0.135925 ]\n",
      " [ 0.106249   0.255479  -0.0102538 -0.757828   0.0154417 -0.328447 ]\n",
      " [-4.6523     0.95232    0.428016  -0.109256  -0.234103  -0.0446015]]\n"
     ]
    }
   ],
   "source": [
    "!mkplummer - 10 seed=123| snapprint - > p10.tab\n",
    "(x,y,z,vx,vy,vz) = np.loadtxt('p10.tab').T\n",
    "tab = np.loadtxt('p10.tab')\n",
    "print(tab.shape)\n",
    "print(tab)\n"
   ]
  },
  {
   "cell_type": "markdown",
   "metadata": {},
   "source": [
    "So you see the **help=h** keyword gives you some help, though there are also online manpages with far more background information. See for example \n",
    "https://teuben.github.io/nemo/man_html/mkplummer.1.html for  the **mkplummer** program.\n",
    "\n",
    "\n",
    "Apart from that NEMO programs use **keyword=value**, instead of **--keyword value** to pass parameters into the program, there is another feature about files in NEMO.   The stdin on one end of the pipe can be connected to the stdout of the other side of the pipe.\n",
    "\n",
    "The example here could have equally well have been run with\n",
    "\n",
    "        mkplummer p10 10 seed=123\n",
    "        snapprint p10 > p10.tab\n",
    "        \n",
    "Now that we have the phase space coordinates in (x,y,z,vx,vy,vz), we can make some interesting plots:"
   ]
  },
  {
   "cell_type": "code",
   "execution_count": 7,
   "metadata": {},
   "outputs": [
    {
     "data": {
      "image/png": "[encoded data removed]",
      "text/plain": [
       "<Figure size 576x576 with 1 Axes>"
      ]
     },
     "metadata": {
      "needs_background": "light"
     },
     "output_type": "display_data"
    }
   ],
   "source": [
    "plt.figure(figsize=(8,8))\n",
    "plt.scatter(x,y)\n",
    "plt.xlim(-5,5)\n",
    "plt.ylim(-5,5)\n",
    "plt.title(\"just a Plummer\");"
   ]
  },
  {
   "cell_type": "markdown",
   "metadata": {},
   "source": [
    "One can also open a **bash** shell in a cell, but remember each cell is essentially a new shell."
   ]
  },
  {
   "cell_type": "code",
   "execution_count": 8,
   "metadata": {},
   "outputs": [
    {
     "name": "stdout",
     "output_type": "stream",
     "text": [
      "-0.609486 -0.221687 -0.450963 -0.0766784 -0.209397 0.396561 \n",
      "4.80925 -0.486182 -1.52575 0.418474 0.117766 0.230193 \n",
      "0.545314 0.0795464 0.0632245 0.0867019 -0.109128 -0.282036 \n",
      "0.377209 -0.213318 -0.011833 -0.739982 0.649302 -0.0595349 \n",
      "-0.0724005 0.706104 0.0899005 0.158021 0.0702185 0.316083 \n",
      "-0.561212 -0.32416 1.18761 0.379356 0.257397 0.0247723 \n",
      "-0.312291 -0.902718 -0.451821 0.669557 -0.463708 -0.117066 \n",
      "0.36967 0.154617 0.681866 -0.0283658 -0.0937881 -0.135925 \n",
      "0.106249 0.255479 -0.0102538 -0.757828 0.0154417 -0.328447 \n",
      "-4.6523 0.95232 0.428016 -0.109256 -0.234103 -0.0446015 \n"
     ]
    },
    {
     "name": "stderr",
     "output_type": "stream",
     "text": [
      "### nemo Debug Info: x y z vx vy vz \n"
     ]
    }
   ],
   "source": [
    "%%bash\n",
    "mkplummer - 10  seed=123 | snapprint -"
   ]
  },
  {
   "cell_type": "markdown",
   "metadata": {},
   "source": [
    "One can also define python variables, and pass them into one of the two common ways to pass on"
   ]
  },
  {
   "cell_type": "code",
   "execution_count": 9,
   "metadata": {},
   "outputs": [],
   "source": [
    "nbody=10\n",
    "seed=123"
   ]
  },
  {
   "cell_type": "code",
   "execution_count": 10,
   "metadata": {},
   "outputs": [
    {
     "name": "stdout",
     "output_type": "stream",
     "text": [
      "### nemo Debug Info: x y z vx vy vz \r\n",
      "-0.609486 -0.221687 -0.450963 -0.0766784 -0.209397 0.396561 \r\n",
      "4.80925 -0.486182 -1.52575 0.418474 0.117766 0.230193 \r\n",
      "0.545314 0.0795464 0.0632245 0.0867019 -0.109128 -0.282036 \r\n",
      "0.377209 -0.213318 -0.011833 -0.739982 0.649302 -0.0595349 \r\n",
      "-0.0724005 0.706104 0.0899005 0.158021 0.0702185 0.316083 \r\n",
      "-0.561212 -0.32416 1.18761 0.379356 0.257397 0.0247723 \r\n",
      "-0.312291 -0.902718 -0.451821 0.669557 -0.463708 -0.117066 \r\n",
      "0.36967 0.154617 0.681866 -0.0283658 -0.0937881 -0.135925 \r\n",
      "0.106249 0.255479 -0.0102538 -0.757828 0.0154417 -0.328447 \r\n",
      "-4.6523 0.95232 0.428016 -0.109256 -0.234103 -0.0446015 \r\n"
     ]
    }
   ],
   "source": [
    "!mkplummer - {nbody} seed={seed} | snapprint -"
   ]
  },
  {
   "cell_type": "code",
   "execution_count": 11,
   "metadata": {},
   "outputs": [
    {
     "name": "stdout",
     "output_type": "stream",
     "text": [
      "-0.609486 -0.221687 -0.450963 -0.0766784 -0.209397 0.396561 \n",
      "4.80925 -0.486182 -1.52575 0.418474 0.117766 0.230193 \n",
      "0.545314 0.0795464 0.0632245 0.0867019 -0.109128 -0.282036 \n",
      "0.377209 -0.213318 -0.011833 -0.739982 0.649302 -0.0595349 \n",
      "-0.0724005 0.706104 0.0899005 0.158021 0.0702185 0.316083 \n",
      "-0.561212 -0.32416 1.18761 0.379356 0.257397 0.0247723 \n",
      "-0.312291 -0.902718 -0.451821 0.669557 -0.463708 -0.117066 \n",
      "0.36967 0.154617 0.681866 -0.0283658 -0.0937881 -0.135925 \n",
      "0.106249 0.255479 -0.0102538 -0.757828 0.0154417 -0.328447 \n",
      "-4.6523 0.95232 0.428016 -0.109256 -0.234103 -0.0446015 \n"
     ]
    },
    {
     "name": "stderr",
     "output_type": "stream",
     "text": [
      "### nemo Debug Info: x y z vx vy vz \n"
     ]
    }
   ],
   "source": [
    "%%bash -s $nbody $seed\n",
    "\n",
    "mkplummer - $1  seed=$2 | snapprint -"
   ]
  },
  {
   "cell_type": "markdown",
   "metadata": {},
   "source": [
    "here is yet another way, but the stdout/stderr will go to the original terminal from which jupyter was started. You may never see this, if you never saw this terminal (think remote users like on SciServer), so this method is probably to be avoided"
   ]
  },
  {
   "cell_type": "code",
   "execution_count": 12,
   "metadata": {},
   "outputs": [
    {
     "data": {
      "text/plain": [
       "0"
      ]
     },
     "execution_count": 12,
     "metadata": {},
     "output_type": "execute_result"
    }
   ],
   "source": [
    "cmd = 'mkplummer - 10 seed=123 | snapprint -'\n",
    "os.system(cmd)"
   ]
  },
  {
   "cell_type": "code",
   "execution_count": 13,
   "metadata": {},
   "outputs": [
    {
     "name": "stdout",
     "output_type": "stream",
     "text": [
      "-0.609486 -0.221687 -0.450963 -0.0766784 -0.209397 0.396561 \r\n",
      "4.80925 -0.486182 -1.52575 0.418474 0.117766 0.230193 \r\n",
      "0.545314 0.0795464 0.0632245 0.0867019 -0.109128 -0.282036 \r\n",
      "0.377209 -0.213318 -0.011833 -0.739982 0.649302 -0.0595349 \r\n",
      "-0.0724005 0.706104 0.0899005 0.158021 0.0702185 0.316083 \r\n",
      "-0.561212 -0.32416 1.18761 0.379356 0.257397 0.0247723 \r\n",
      "-0.312291 -0.902718 -0.451821 0.669557 -0.463708 -0.117066 \r\n",
      "0.36967 0.154617 0.681866 -0.0283658 -0.0937881 -0.135925 \r\n",
      "0.106249 0.255479 -0.0102538 -0.757828 0.0154417 -0.328447 \r\n",
      "-4.6523 0.95232 0.428016 -0.109256 -0.234103 -0.0446015 \r\n"
     ]
    }
   ],
   "source": [
    "cmd = 'mkplummer - 10 seed=123 | snapprint - > p10.log'\n",
    "os.system(cmd)\n",
    "!cat p10.log"
   ]
  }
 ],
 "metadata": {
  "kernelspec": {
   "display_name": "Python 3",
   "language": "python",
   "name": "python3"
  },
  "language_info": {
   "codemirror_mode": {
    "name": "ipython",
    "version": 3
   },
   "file_extension": ".py",
   "mimetype": "text/x-python",
   "name": "python",
   "nbconvert_exporter": "python",
   "pygments_lexer": "ipython3",
   "version": "3.7.4"
  }
 },
 "nbformat": 4,
 "nbformat_minor": 2
}
