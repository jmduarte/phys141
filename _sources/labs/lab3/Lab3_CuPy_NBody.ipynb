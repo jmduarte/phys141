{
 "cells": [
  {
   "cell_type": "markdown",
   "id": "5f20a8d6",
   "metadata": {},
   "source": [
    "# Lab 03: CuPy & N-Body\n",
    "Links:\n",
    "- https://github.com/jacobtomlinson/gpu-python-tutorial\n",
    "- https://docs.cupy.dev/en/stable/user_guide/index.html\n",
    "- https://github.com/pleiszenburg/gravitation\n",
    "- https://developer.nvidia.com/gpugems/gpugems3/part-v-physics-simulation/chapter-31-fast-n-body-simulation-cuda\n",
    "- https://medium.com/swlh/create-your-own-n-body-simulation-with-python-f417234885e9\n",
    "\n",
    "Slides:\n",
    "- https://docs.google.com/presentation/d/17HOQBO87Z_kTTnaO2Tl1O-Ps1IAsr7sZt72DqylgyD4/edit?usp=sharing"
   ]
  },
  {
   "cell_type": "markdown",
   "id": "907add31",
   "metadata": {},
   "source": [
    "## Install CuPy"
   ]
  },
  {
   "cell_type": "code",
   "execution_count": null,
   "id": "d97a8b86",
   "metadata": {},
   "outputs": [],
   "source": [
    "! pip install cupy-cuda11x --user"
   ]
  },
  {
   "cell_type": "markdown",
   "id": "4d4948b0",
   "metadata": {},
   "source": [
    "## Import libraries"
   ]
  },
  {
   "cell_type": "code",
   "execution_count": null,
   "id": "15a88d57",
   "metadata": {},
   "outputs": [],
   "source": [
    "import cupy as cp\n",
    "import numpy as np"
   ]
  },
  {
   "cell_type": "markdown",
   "id": "0e54befe",
   "metadata": {},
   "source": [
    "## NumPy example\n",
    "\n",
    "We'll revisit the NumPy example of calculating the invariant mass for a million relativisitic particles.\n",
    "\n",
    "### Create CPU arrays\n",
    "\n",
    "First we create the arrays *on the CPU*."
   ]
  },
  {
   "cell_type": "code",
   "execution_count": null,
   "id": "d456df6c",
   "metadata": {},
   "outputs": [],
   "source": [
    "energy = np.random.normal(100, 10, 1000000)\n",
    "px = np.random.normal(0, 10, 1000000)\n",
    "py = np.random.normal(0, 10, 1000000)\n",
    "pz = np.random.normal(0, 10, 1000000)"
   ]
  },
  {
   "cell_type": "markdown",
   "id": "3e32003d",
   "metadata": {},
   "source": [
    "### Benchmark NumPy\n",
    "\n",
    "We can use the `%%timeit` magic command to test the time of this cell. \n",
    "\n",
    "From the last lab, we saw this wasn't as optimal as creating a special *kernel* that could be *just-in-time compiled* with Numba, but just as a simple benchmark."
   ]
  },
  {
   "cell_type": "code",
   "execution_count": null,
   "id": "0a89088b",
   "metadata": {},
   "outputs": [],
   "source": [
    "%%timeit\n",
    "\n",
    "mass = np.sqrt(energy**2 - px**2 - py**2 - pz**2)"
   ]
  },
  {
   "cell_type": "markdown",
   "id": "a75b5649",
   "metadata": {},
   "source": [
    "## CuPy example\n",
    "\n",
    "### Create GPU arrays\n",
    "\n",
    "Now, we can create the arrays *on the GPU*."
   ]
  },
  {
   "cell_type": "code",
   "execution_count": null,
   "id": "d7592f3c",
   "metadata": {},
   "outputs": [],
   "source": [
    "energy_gpu = cp.random.normal(100, 10, 1000000)\n",
    "px_gpu = cp.random.normal(0, 10, 1000000)\n",
    "py_gpu = cp.random.normal(0, 10, 1000000)\n",
    "pz_gpu = cp.random.normal(0, 10, 1000000)"
   ]
  },
  {
   "cell_type": "code",
   "execution_count": null,
   "id": "5a4776e1",
   "metadata": {},
   "outputs": [],
   "source": [
    "from cupyx.profiler import benchmark\n",
    "\n",
    "def cp_mass(energy, px, py, pz):\n",
    "    return cp.sqrt(energy**2 - px**2 - py**2 - pz**2)"
   ]
  },
  {
   "cell_type": "code",
   "execution_count": null,
   "id": "c171cf3e",
   "metadata": {},
   "outputs": [],
   "source": [
    "benchmark(cp_mass, (energy_gpu, px_gpu, py_gpu, pz_gpu), n_repeat=100)"
   ]
  },
  {
   "cell_type": "markdown",
   "id": "e6424025",
   "metadata": {},
   "source": [
    "Note, it's not a huge speedup over vanilla NumPy. Why is that?"
   ]
  },
  {
   "cell_type": "markdown",
   "id": "490eb4e3",
   "metadata": {},
   "source": [
    "## CuPy Kernel example\n",
    "\n",
    "We can remove the pure Python overhead in betewen calcualtions, by creating a custom \"elementwise\" kernel that will run the entire calculation on the GPU."
   ]
  },
  {
   "cell_type": "code",
   "execution_count": null,
   "id": "5e94eb06",
   "metadata": {},
   "outputs": [],
   "source": [
    "cp_mass_kernel = cp.ElementwiseKernel(\n",
    "   'float64 e, float64 px, float64 py, float64 pz',\n",
    "   'float64 m',\n",
    "   'm = sqrt(e * e - px * px - py * py - pz * pz)',\n",
    "   'cp_mass_kernel')"
   ]
  },
  {
   "cell_type": "code",
   "execution_count": null,
   "id": "1ca13a96",
   "metadata": {},
   "outputs": [],
   "source": [
    "benchmark(cp_mass_kernel, (energy_gpu, px_gpu, py_gpu, pz_gpu), n_repeat=100)"
   ]
  },
  {
   "cell_type": "markdown",
   "id": "1fdad58d",
   "metadata": {},
   "source": [
    "It's much faster!"
   ]
  },
  {
   "cell_type": "markdown",
   "id": "95900ae7",
   "metadata": {},
   "source": [
    "## N-Body\n",
    "\n",
    "### Loop-based"
   ]
  },
  {
   "cell_type": "code",
   "execution_count": null,
   "id": "562441db",
   "metadata": {},
   "outputs": [],
   "source": [
    "def getAcc( pos, mass, G, softening ):\n",
    "    \"\"\"\n",
    "    Calculate the acceleration on each particle due to Newton's Law \n",
    "    pos  is an N x 3 matrix of positions\n",
    "    mass is an N x 1 vector of masses\n",
    "    G is Newton's Gravitational constant\n",
    "    softening is the softening length\n",
    "    a is N x 3 matrix of accelerations\n",
    "    \"\"\"\n",
    "    \n",
    "    N = pos.shape[0];\n",
    "    a = np.zeros((N,3));\n",
    "    \n",
    "    for i in range(N):\n",
    "        for j in range(N):\n",
    "            dx = pos[j,0] - pos[i,0]\n",
    "            dy = pos[j,1] - pos[i,1]\n",
    "            dz = pos[j,2] - pos[i,2]\n",
    "            inv_r3 = (dx**2 + dy**2 + dz**2 + softening**2)**(-1.5)\n",
    "            a[i,0] +=  G * (dx * inv_r3) * mass[j]\n",
    "            a[i,1] +=  G * (dy * inv_r3) * mass[j]\n",
    "            a[i,2] +=  G * (dz * inv_r3) * mass[j]\n",
    "\n",
    "    return a"
   ]
  },
  {
   "cell_type": "markdown",
   "id": "05f319fb",
   "metadata": {},
   "source": [
    "### Vectorized"
   ]
  },
  {
   "cell_type": "code",
   "execution_count": null,
   "id": "e6b293dd",
   "metadata": {},
   "outputs": [],
   "source": [
    "def getAcc( pos, mass, G, softening ):\n",
    "    \"\"\"\n",
    "    Calculate the acceleration on each particle due to Newton's Law\n",
    "    pos  is an N x 3 matrix of positions\n",
    "    mass is an N x 1 vector of masses\n",
    "    G is Newton's Gravitational constant\n",
    "    softening is the softening length\n",
    "    a is N x 3 matrix of accelerations\n",
    "    \"\"\"\n",
    "    # positions r = [x,y,z] for all particles\n",
    "    x = pos[:,0:1]\n",
    "    y = pos[:,1:2]\n",
    "    z = pos[:,2:3]\n",
    "    \n",
    "    # matrix that stores all pairwise particle separations: r_j - r_i\n",
    "    dx = x.T - x\n",
    "    dy = y.T - y\n",
    "    dz = z.T - z\n",
    "    \n",
    "    # matrix that stores 1/r^3 for all particle pairwise particle separations \n",
    "    inv_r3 = (dx**2 + dy**2 + dz**2 + softening**2)**(-1.5)\n",
    "    \n",
    "    ax = G * (dx * inv_r3) @ mass\n",
    "    ay = G * (dy * inv_r3) @ mass\n",
    "    az = G * (dz * inv_r3) @ mass\n",
    "    \n",
    "    # pack together the acceleration components\n",
    "    a = np.hstack((ax,ay,az))\n",
    "\n",
    "    return a"
   ]
  },
  {
   "cell_type": "code",
   "execution_count": null,
   "id": "c50dd937",
   "metadata": {},
   "outputs": [],
   "source": [
    "def getEnergy( pos, vel, mass, G ):\n",
    "    \"\"\"\n",
    "    Get kinetic energy (KE) and potential energy (PE) of simulation\n",
    "    pos is N x 3 matrix of positions\n",
    "    vel is N x 3 matrix of velocities\n",
    "    mass is an N x 1 vector of masses\n",
    "    G is Newton's Gravitational constant\n",
    "    KE is the kinetic energy of the system\n",
    "    PE is the potential energy of the system\n",
    "    \"\"\"\n",
    "    # Kinetic Energy:\n",
    "    KE = 0.5 * np.sum(np.sum( mass * vel**2 ))\n",
    "\n",
    "    # Potential Energy:\n",
    "\n",
    "    # positions r = [x,y,z] for all particles\n",
    "    x = pos[:,0:1]\n",
    "    y = pos[:,1:2]\n",
    "    z = pos[:,2:3]\n",
    "\n",
    "    # matrix that stores all pairwise particle separations: r_j - r_i\n",
    "    dx = x.T - x\n",
    "    dy = y.T - y\n",
    "    dz = z.T - z\n",
    "\n",
    "    # matrix that stores 1/r for all particle pairwise particle separations \n",
    "    inv_r = np.sqrt(dx**2 + dy**2 + dz**2)\n",
    "    inv_r[inv_r>0] = 1.0/inv_r[inv_r>0]\n",
    "\n",
    "    # sum over upper triangle, to count each interaction only once\n",
    "    PE = G * np.sum(np.sum(np.triu(-(mass*mass.T)*inv_r,1)))\n",
    "    \n",
    "    return KE, PE"
   ]
  },
  {
   "cell_type": "code",
   "execution_count": null,
   "id": "ff54bb59",
   "metadata": {},
   "outputs": [],
   "source": [
    "import matplotlib.pyplot as plt\n",
    "import matplotlib\n",
    "\n",
    "# Simulation parameters\n",
    "N         = 100    # Number of particles\n",
    "t         = 0      # current time of the simulation\n",
    "tEnd      = 10.0   # time at which simulation ends\n",
    "dt        = 0.01   # timestep\n",
    "softening = 0.1    # softening length\n",
    "G         = 1.0    # Newton's Gravitational Constant\n",
    "plotRealTime = False # switch on for plotting as the simulation goes along\n",
    "\n",
    "# Generate Initial Conditions\n",
    "np.random.seed(17)            # set the random number generator seed\n",
    "\n",
    "mass = 20.0*np.ones((N,1))/N  # total mass of particles is 20\n",
    "pos  = np.random.randn(N,3)   # randomly selected positions and velocities\n",
    "vel  = np.random.randn(N,3)\n",
    "\n",
    "# Convert to Center-of-Mass frame\n",
    "vel -= np.mean(mass * vel,0) / np.mean(mass)\n",
    "\n",
    "# calculate initial gravitational accelerations\n",
    "acc = getAcc( pos, mass, G, softening )\n",
    "\n",
    "# calculate initial energy of system\n",
    "KE, PE  = getEnergy( pos, vel, mass, G )\n",
    "\n",
    "# number of timesteps\n",
    "Nt = int(np.ceil(tEnd/dt))\n",
    "\n",
    "# save energies, particle orbits for plotting trails\n",
    "pos_save = np.zeros((N,3,Nt+1))\n",
    "pos_save[:,:,0] = pos\n",
    "KE_save = np.zeros(Nt+1)\n",
    "KE_save[0] = KE\n",
    "PE_save = np.zeros(Nt+1)\n",
    "PE_save[0] = PE\n",
    "t_all = np.arange(Nt+1)*dt\n",
    "\n",
    "    \n",
    "# Simulation Main Loop\n",
    "for i in range(Nt):\n",
    "    # (1/2) kick\n",
    "    vel += acc * dt/2.0\n",
    "\n",
    "    # drift\n",
    "    pos += vel * dt\n",
    "\n",
    "    # update accelerations\n",
    "    acc = getAcc( pos, mass, G, softening )\n",
    "\n",
    "    # (1/2) kick\n",
    "    vel += acc * dt/2.0\n",
    "\n",
    "    # update time\n",
    "    t += dt\n",
    "\n",
    "    # get energy of system\n",
    "    KE, PE  = getEnergy( pos, vel, mass, G )\n",
    "\n",
    "    # save energies, positions for plotting trail\n",
    "    pos_save[:,:,i+1] = pos\n",
    "    KE_save[i+1] = KE\n",
    "    PE_save[i+1] = PE"
   ]
  },
  {
   "cell_type": "code",
   "execution_count": null,
   "id": "66e2efbc",
   "metadata": {},
   "outputs": [],
   "source": [
    "for i in range(0, Nt, 10):\n",
    "    plt.sca(ax1)\n",
    "    plt.cla()\n",
    "    xx = pos_save[:,0,max(i-50,0):i+1]\n",
    "    yy = pos_save[:,1,max(i-50,0):i+1]\n",
    "    plt.scatter(xx,yy,s=1,color=[.7,.7,1])\n",
    "    plt.scatter(pos[:,0],pos[:,1],s=10,color='blue')\n",
    "    ax1.set(xlim=(-2, 2), ylim=(-2, 2))\n",
    "    ax1.set_aspect('equal', 'box')\n",
    "    ax1.set_xticks([-2,-1,0,1,2])\n",
    "    ax1.set_yticks([-2,-1,0,1,2])\n",
    "\n",
    "    plt.sca(ax2)\n",
    "    plt.cla()\n",
    "    plt.scatter(t_all,KE_save,color='red',s=1,label='KE' if i == Nt-1 else \"\")\n",
    "    plt.scatter(t_all,PE_save,color='blue',s=1,label='PE' if i == Nt-1 else \"\")\n",
    "    plt.scatter(t_all,KE_save+PE_save,color='black',s=1,label='Etot' if i == Nt-1 else \"\")\n",
    "    ax2.set(xlim=(0, tEnd), ylim=(-300, 300))\n",
    "    ax2.set_aspect(0.007)\n",
    "\n",
    "    # add labels/legend\n",
    "    plt.sca(ax2)\n",
    "    plt.xlabel('time')\n",
    "    plt.ylabel('energy')\n",
    "    ax2.legend(loc='upper right')\n",
    "\n",
    "    # Save figure\n",
    "    plt.savefig(f'nbody_{i}.png',dpi=240)"
   ]
  },
  {
   "cell_type": "code",
   "execution_count": null,
   "id": "40341ab9",
   "metadata": {},
   "outputs": [],
   "source": [
    "! "
   ]
  }
 ],
 "metadata": {
  "kernelspec": {
   "display_name": "Python 3 (ipykernel)",
   "language": "python",
   "name": "python3"
  },
  "language_info": {
   "codemirror_mode": {
    "name": "ipython",
    "version": 3
   },
   "file_extension": ".py",
   "mimetype": "text/x-python",
   "name": "python",
   "nbconvert_exporter": "python",
   "pygments_lexer": "ipython3",
   "version": "3.9.5"
  }
 },
 "nbformat": 4,
 "nbformat_minor": 5
}
