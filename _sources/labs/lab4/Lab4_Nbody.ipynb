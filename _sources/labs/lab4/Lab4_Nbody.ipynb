{
 "cells": [
  {
   "cell_type": "code",
   "execution_count": null,
   "metadata": {},
   "outputs": [],
   "source": [
    "import os\n",
    "import matplotlib.pyplot as plt\n",
    "import numpy as np\n",
    "import IPython.display as ipd"
   ]
  },
  {
   "attachments": {},
   "cell_type": "markdown",
   "metadata": {},
   "source": [
    "# Leapfrog N-Body Code with Python"
   ]
  },
  {
   "attachments": {},
   "cell_type": "markdown",
   "metadata": {},
   "source": [
    "Newton's Law of Gravity:\n",
    "\n",
    "$$\n",
    "\\vec{F} = -\\frac{m_1 m_2}{r^3}\\vec{r},\\quad\\mathrm{or}\\quad \\vec{a_1} = \\vec{F} / m_1 = -\\frac{m_2}{r^3}\\vec{r}\n",
    "$$\n",
    "\n",
    "where we've set $G = 1$.\n",
    "\n",
    "Add softening:\n",
    "\n",
    "$$\n",
    "\\vec{a_1} = -\\frac{m_2}{(r^2 + \\epsilon^2)^{3/2}}\\vec{r}\n",
    "$$\n",
    "\n",
    "where $\\epsilon$ is a small number to prevent singularities."
   ]
  },
  {
   "cell_type": "code",
   "execution_count": null,
   "metadata": {},
   "outputs": [],
   "source": [
    "def accel(m: np.ndarray, x: np.ndarray, eps_sq: float) -> np.ndarray:\n",
    "    \"\"\"Compute accelerations for harmonic oscillator(s)\n",
    "\n",
    "    Args:\n",
    "        m (array of shape (N,)): masses of points\n",
    "        x (array of shape (N, 3)): positions of points\n",
    "        eps_sq (float): softening parameter\n",
    "\n",
    "    Returns:\n",
    "        a (array of shape (N, 3)): accelerations of points\n",
    "    \"\"\"\n",
    "    n = len(m)  # number of points\n",
    "    a = np.zeros((n, 3))  # initialize accelerations\n",
    "    for i in range(n):  # loop over all points...\n",
    "        for j in range(i + 1, n):  # loop over i, j pairs\n",
    "            r_vec = x[i] - x[j]\n",
    "            r_sq = (r_vec**2).sum()\n",
    "            acc = m[j] * r_vec / (r_sq + eps_sq)**(3/2)\n",
    "            a[i] += -acc\n",
    "            a[j] += acc\n",
    "    return a\n"
   ]
  },
  {
   "cell_type": "code",
   "execution_count": null,
   "metadata": {},
   "outputs": [],
   "source": [
    "def leapstep(m: np.ndarray, x: np.ndarray, v: np.ndarray, dt: float, eps_sq: float):\n",
    "    \"\"\"Take one step using the leapfrog integrator, formulated\n",
    "    as a mapping from t to t + dt.  WARNING: this integrator is not\n",
    "    accurate unless the timestep dt is fixed from one call to another.\n",
    "\n",
    "    Args:\n",
    "        m (array of shape (N,)): mass of all points\n",
    "        x (array of shape (N, 3)): coordinate of all points\n",
    "        v (array of shape (N, 3)): velocities of all points\n",
    "        dt (float): timestep for integration\n",
    "        eps_sq (float): softening parameter (epsilon^2)\n",
    "    \"\"\"\n",
    "    v += 0.5 * dt * accel(m, x, eps_sq) # advance vel by half-step\n",
    "    x += dt * v # advance pos by full-step\n",
    "    v += 0.5 * dt * accel(m, x, eps_sq) # complete velocity step\n"
   ]
  },
  {
   "cell_type": "code",
   "execution_count": null,
   "metadata": {},
   "outputs": [],
   "source": [
    "def save_state(m, x, tnow):\n",
    "    \"\"\"Save the current state to file.\n",
    "\n",
    "    Args:\n",
    "        m (array of shape (N,)): masses of all points\n",
    "        x (array of shape (N, 3)): positions of all points\n",
    "        tnow (float): current time, in seconds\n",
    "    \"\"\"\n",
    "    with open(\"leapint.py.data\", \"a\") as f:\n",
    "        for i in range(len(m)):  # loop over all points...\n",
    "            f.write(\"%8.4f%12.6f%12.6f%12.6f%12.6f\\n\" % (tnow, m[i], x[i][0], x[i][1], x[i][2]))"
   ]
  },
  {
   "cell_type": "code",
   "execution_count": null,
   "metadata": {},
   "outputs": [],
   "source": [
    "%%time\n",
    "\n",
    "n = 100 # number of points\n",
    "\n",
    "m = np.zeros(n)\n",
    "x = np.zeros((n, 3))\n",
    "v = np.zeros((n, 3))\n",
    "\n",
    "# read initial condition file\n",
    "with open(\"initc.data\", \"r\") as f:\n",
    "    content = f.readlines()\n",
    "\n",
    "# load header information\n",
    "header = content[0].split()\n",
    "dt = float(header[2]) # timestep for integration\n",
    "tmax = float(header[3]) # duration of the simulation\n",
    "eps_sq = float(header[4]) # softening parameter (epsilon^2)\n",
    "\n",
    "# load n-body initial conditions\n",
    "for i in range(n):\n",
    "    line = content[i + 1].split()\n",
    "    m[i] = float(line[0])\n",
    "    x[i, :] = [float(line[1]), float(line[2]), float(line[3])]\n",
    "    v[i, :] = [float(line[4]), float(line[5]), float(line[6])]\n",
    "\n",
    "# next, set integration parameters\n",
    "tnow = 0.0  # set initial time\n",
    "mstep = int(tmax / dt)  # number of steps to take\n",
    "\n",
    "# delete old output if it exists\n",
    "if os.path.exists(\"leapint.py.data\"):\n",
    "    os.remove(\"leapint.py.data\")\n",
    "\n",
    "# now, loop performing integration\n",
    "for nstep in range(mstep):  # loop mstep times in all\n",
    "    leapstep(m, x, v, dt, eps_sq)  # take integration step\n",
    "    tnow = tnow + dt  # and update value of time\n",
    "    save_state(m, x, tnow)  # then output last step"
   ]
  },
  {
   "attachments": {},
   "cell_type": "markdown",
   "metadata": {},
   "source": [
    "# Plot the Results of the N-body Simulation with Python"
   ]
  },
  {
   "cell_type": "code",
   "execution_count": null,
   "metadata": {},
   "outputs": [],
   "source": [
    "# load data\n",
    "# sphere.data has lines structured as mass, x, y, z\n",
    "t, m, x, y, z = [], [], [], [], []\n",
    "with open('leapint.py.data', \"r\") as f:\n",
    "    for line in f.readlines():\n",
    "        data = line.split()\n",
    "        t.append(float(data[0]))\n",
    "        m.append(float(data[1]))\n",
    "        x.append(float(data[2]))\n",
    "        y.append(float(data[3]))\n",
    "        z.append(float(data[4]))"
   ]
  },
  {
   "cell_type": "code",
   "execution_count": null,
   "metadata": {},
   "outputs": [],
   "source": [
    "num_bodies = 100\n",
    "num_steps = len(m) // num_bodies\n",
    "\n",
    "# delete old plots\n",
    "for file in os.listdir('build'):\n",
    "    if file.startswith('py_'):\n",
    "        os.remove(os.path.join('build', file))\n",
    "\n",
    "# save plots of frames\n",
    "for i in range(num_steps):\n",
    "    plt.figure(figsize=(10, 10))\n",
    "    plt.scatter(x[i*num_bodies:(i+1)*num_bodies], y[i*num_bodies:(i+1)*num_bodies], s=1)\n",
    "    plt.xlim(-1, 1)\n",
    "    plt.ylim(-1, 1)\n",
    "    plt.title(f'time = {t[i*num_bodies]:.2f}')\n",
    "    plt.savefig(f'build/py_{i:03d}.png')\n",
    "    plt.close()"
   ]
  },
  {
   "cell_type": "code",
   "execution_count": null,
   "metadata": {},
   "outputs": [],
   "source": [
    "# create video\n",
    "!ffmpeg -r 30 -i build/py_%03d.png build/py.mp4 -y -loglevel error"
   ]
  },
  {
   "cell_type": "code",
   "execution_count": null,
   "metadata": {},
   "outputs": [],
   "source": [
    "# show video\n",
    "ipd.Video('build/py.mp4')"
   ]
  },
  {
   "attachments": {},
   "cell_type": "markdown",
   "metadata": {},
   "source": [
    "# N-Body Simulation with Aarseth's Code"
   ]
  },
  {
   "attachments": {},
   "cell_type": "markdown",
   "metadata": {},
   "source": [
    "Run \n",
    "\n",
    "```\n",
    "gcc nbody0-lab.c -o nbody0-lab.out -lm\n",
    "./nbody0-lab.out\n",
    "```\n",
    "\n",
    "in the terminal."
   ]
  },
  {
   "cell_type": "markdown",
   "metadata": {},
   "source": [
    "# Plot the Results of the N-body Simulation from Aarseth's Code"
   ]
  },
  {
   "cell_type": "code",
   "execution_count": null,
   "metadata": {},
   "outputs": [],
   "source": [
    "# load data\n",
    "# sphere.data has lines structured as mass, x, y, z\n",
    "t, m, x, y, z = [], [], [], [], []\n",
    "with open('sphere.data', \"r\") as f:\n",
    "    for line in f.readlines():\n",
    "        data = line.split()\n",
    "        t.append(float(data[0]))\n",
    "        m.append(float(data[1]))\n",
    "        x.append(float(data[2]))\n",
    "        y.append(float(data[3]))\n",
    "        z.append(float(data[4]))\n",
    "\n",
    "num_bodies = 2000\n",
    "num_steps = len(m) // num_bodies\n",
    "\n",
    "# delete old plots\n",
    "for file in os.listdir('build'):\n",
    "    if file.startswith('aarseth_'):\n",
    "        os.remove(os.path.join('build', file))\n",
    "\n",
    "# save plots of frames\n",
    "for i in range(num_steps):\n",
    "    plt.figure(figsize=(10, 10))\n",
    "    plt.scatter(x[i*num_bodies:(i+1)*num_bodies], y[i*num_bodies:(i+1)*num_bodies], s=1)\n",
    "    plt.xlim(-1, 1)\n",
    "    plt.ylim(-1, 1)\n",
    "    plt.title(f'time = {t[i*num_bodies]:.2f} s')\n",
    "    plt.savefig(f'build/aarseth_{i:03d}.png')\n",
    "    plt.close()\n",
    "\n",
    "# create video\n",
    "!ffmpeg -r 30 -i build/aarseth_%03d.png build/aarseth.mp4 -y -loglevel error\n",
    "\n",
    "# show video\n",
    "ipd.Video('build/aarseth.mp4')"
   ]
  },
  {
   "cell_type": "code",
   "execution_count": null,
   "metadata": {},
   "outputs": [],
   "source": []
  }
 ],
 "metadata": {
  "kernelspec": {
   "display_name": "playground",
   "language": "python",
   "name": "python3"
  },
  "language_info": {
   "codemirror_mode": {
    "name": "ipython",
    "version": 3
   },
   "file_extension": ".py",
   "mimetype": "text/x-python",
   "name": "python",
   "nbconvert_exporter": "python",
   "pygments_lexer": "ipython3",
   "version": "3.10.4"
  },
  "orig_nbformat": 4
 },
 "nbformat": 4,
 "nbformat_minor": 2
}
