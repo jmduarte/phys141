{
 "cells": [
  {
   "attachments": {},
   "cell_type": "markdown",
   "metadata": {
    "button": false,
    "new_sheet": false,
    "run_control": {
     "read_only": false
    }
   },
   "source": [
    "# Lecture 03: Numerical Integration Methods\n",
    "Credit: https://pythonnumericalmethods.berkeley.edu/notebooks/Index.html"
   ]
  },
  {
   "attachments": {},
   "cell_type": "markdown",
   "metadata": {
    "button": false,
    "new_sheet": false,
    "run_control": {
     "read_only": false
    }
   },
   "source": [
    "## Euler Method\n",
    "\n",
    "Let $\\frac{dS(t)}{dt} = F(t,S(t))$ be an explicitly defined first order ODE.\n",
    "That is, $F$ is a function that returns the derivative, or change, of a state given a time and state value.\n",
    "Also, let $t$ be a numerical grid of the interval $[t_0, t_f]$ with spacing $h$.\n",
    "Without loss of generality, we assume that $t_0 = 0$, and that $t_f = Nh$ for some positive integer, $N$.\n",
    "\n",
    "The linear approximation of $S(t)$ around $t_j$ at $t_{j+1}$ is\n",
    "\n",
    "$$\n",
    "S(t_{j+1}) = S(t_j) + (t_{j+1} - t_j)\\frac{dS(t_j)}{dt},\n",
    "$$\n",
    "\n",
    "which can also be written\n",
    "\n",
    "$$\n",
    "S(t_{j+1}) = S(t_j) + hF(t_j, S(t_j)).\n",
    "$$\n",
    "\n",
    "This formula is called the **Explicit Euler Formula**, and it allows us to compute an approximation for the state at $S(t_{j+1})$ given the state at $S(t_j)$. Starting from a given initial value of $S_0 = S(t_0)$, we can use this formula to integrate the states up to $S(t_f)$; these $S(t)$ values are then an approximation for the solution of the differential equation.\n",
    "The explicit Euler formula is the simplest and most intuitive method for solving initial value problems.\n",
    "At any state $(t_j, S(t_j))$ it uses $F$ at that state to \"point\" toward the next state and then moves in that direction a distance of $h$.\n",
    "Although there are more sophisticated and accurate methods for solving these problems, they all have the same fundamental structure.\n",
    "As such, we enumerate explicitly the steps for solving an initial value problem using the Explicit Euler formula.\n",
    "\n",
    "<img src=\"images/Euler-method-illustration.png\" alt=\"explicit Euler\" title=\"The illustration of the explicit Euler method.\" width=\"400\"/>"
   ]
  },
  {
   "cell_type": "markdown",
   "metadata": {
    "button": false,
    "new_sheet": false,
    "run_control": {
     "read_only": false
    }
   },
   "source": [
    "**WHAT IS HAPPENING?** Assume we are given a function $F(t, S(t))$ that computes $\\frac{dS(t)}{dt}$, a numerical grid, $t$, of the interval, $[t_0, t_f]$, and an initial state value $S_0 = S(t_0)$. We can compute $S(t_j)$ for every $t_j$ in $t$ using the following steps.\n",
    "\n",
    "1. Store $S_0 = S(t_0)$ in an array, $S$.\n",
    "2. Compute $S(t_1) = S_0 + hF(t_0, S_0)$.\n",
    "3. Store $S_1 = S(t_1)$ in $S$.\n",
    "4. Compute $S(t_2) = S_1 + hF(t_1, S_1)$.\n",
    "5. Store $S_2 = S(t_1)$ in $S$.\n",
    "6. $\\cdots$\n",
    "7. Compute $S(t_f) = S_{f-1} + hF(t_{f-1}, S_{f-1})$.\n",
    "8. Store $S_f = S(t_f)$ in $S$.\n",
    "9. $S$ is an approximation of the solution to the initial value problem."
   ]
  },
  {
   "attachments": {},
   "cell_type": "markdown",
   "metadata": {
    "button": false,
    "new_sheet": false,
    "run_control": {
     "read_only": false
    }
   },
   "source": [
    "When using a method with this structure, we say the method **integrates** the solution of the ODE.\n",
    "\n",
    "*Example*: The differential equation $\\frac{df(t)}{dt} = e^{-t}$ with initial condition $f_0 = -1$ has the exact solution $f(t) = -e^{-t}$. \n",
    "Approximate the solution to this initial value problem between 0 and 1 in increments of 0.1 using the explicit Euler Formula.\n",
    "Plot the difference between the approximated solution and the exact solution. "
   ]
  },
  {
   "cell_type": "code",
   "execution_count": null,
   "metadata": {
    "button": false,
    "new_sheet": false,
    "run_control": {
     "read_only": false
    }
   },
   "outputs": [],
   "source": [
    "import numpy as np\n",
    "import matplotlib.pyplot as plt\n",
    "\n",
    "%matplotlib inline\n",
    "\n",
    "plt.style.use('seaborn-poster')\n",
    "# Define parameters\n",
    "f = lambda t, s: 7*np.exp(-7*t) # ODE\n",
    "g = lambda t: -np.exp(-7*t) # Exact solution\n",
    "\n",
    "h = 0.1 # Step size\n",
    "t = np.arange(0, 10*h, h) # Numerical grid\n",
    "s0 = -1 # Initial condition"
   ]
  },
  {
   "cell_type": "code",
   "execution_count": null,
   "metadata": {},
   "outputs": [],
   "source": [
    "# Explicit Euler method\n",
    "s = np.zeros(len(t))\n",
    "s_imp = np.zeros(len(t))\n",
    "s[0] = s0\n",
    "s_imp[0] = s0\n",
    "\n",
    "\n",
    "for i in range(0, len(t) - 1):\n",
    "    s[i + 1] = s[i] + h*f(t[i], s[i])\n",
    "    s_imp[i + 1] = s[i] + h*f(t[i+1], s[i+1])\n",
    "\n",
    "plt.figure(figsize = (12, 8))\n",
    "plt.plot(t, s, 'bo--', label='Explicit Euler')\n",
    "plt.plot(t, g(t), 'g', label='Exact')\n",
    "plt.xlabel('$t$')\n",
    "plt.ylabel('$S(t)$')\n",
    "plt.grid()\n",
    "plt.legend(loc='lower right')\n",
    "plt.savefig(\"explicit_euler.pdf\")\n",
    "plt.show()"
   ]
  },
  {
   "attachments": {},
   "cell_type": "markdown",
   "metadata": {
    "button": false,
    "new_sheet": false,
    "run_control": {
     "read_only": false
    }
   },
   "source": [
    "The explicit Euler Formula is called \"explicit\" because it only requires information at $t_j$ to compute the state at $t_{j+1}$.\n",
    "That is, $S(t_{j+1})$ can be written explicitly in terms of values we have (i.e., $t_j$ and $S(t_j)$).\n",
    "The **implicit Euler formula** can be derived by taking the linear approximation of $S(t)$ around $t_{j+1}$ and computing it at $t_j$:\n",
    "\n",
    "$$\n",
    "S(t_{j+1}) = S(t_j) + hF(t_{j+1}, S(t_{j+1})).\n",
    "$$\n",
    "\n",
    "This formula is peculiar because it requires that we know $S(t_{j+1})$ to compute $S(t_{j+1})$!\n",
    "However, it happens that sometimes we *can* use this formula to approximate the solution to initial value problems."
   ]
  },
  {
   "attachments": {},
   "cell_type": "markdown",
   "metadata": {
    "button": false,
    "new_sheet": false,
    "run_control": {
     "read_only": false
    }
   },
   "source": [
    "## Midpoint method"
   ]
  },
  {
   "cell_type": "code",
   "execution_count": null,
   "metadata": {},
   "outputs": [],
   "source": [
    "# Explicit Midpoint method\n",
    "s_mid = np.zeros(len(t))\n",
    "s_mid[0] = s0\n",
    "\n",
    "for i in range(0, len(t) - 1):\n",
    "    s_mid[i + 1] = s_mid[i] + h*f(t[i] + h/2, s_mid[i] + (h/2)*f(t[i], s_mid[i]))\n",
    "\n",
    "plt.figure(figsize = (12, 8))\n",
    "plt.plot(t, s, 'bo--', label='Explicit Euler')\n",
    "plt.plot(t, g(t), 'g', label='Exact')\n",
    "plt.plot(t, s_mid, 'ro-.', label='Midpoint')\n",
    "plt.xlabel('$t$')\n",
    "plt.ylabel('$S(t)$')\n",
    "plt.grid()\n",
    "plt.legend(loc='lower right')\n",
    "plt.savefig(\"explicit_euler_midpoint.pdf\")\n",
    "plt.show()"
   ]
  },
  {
   "attachments": {},
   "cell_type": "markdown",
   "metadata": {},
   "source": [
    "## Predictor-Corrector Methods\n",
    "\n",
    "Given any time and state value, the function, $F(t, S(t))$, returns the change of state $\\frac{dS(t)}{dt}$. \n",
    "**Predictor-corrector** methods of solving initial value problems improve the approximation accuracy by querying the $F$ function several times at different locations (predictions), and then using a weighted average of the results (corrections) to update the state. \n",
    "Essentially, it uses two formulas: the **predictor** and **corrector**. The predictor is an explicit formula and first estimates the solution at $t_{j+1}$, i.e. we can use Euler method or some other methods to finish this step.\n",
    "After we obtain the solution $S(t_{j+1})$, we can apply the corrector to improve the accuracy.\n",
    "Using the found $S(t_{j+1})$ on the right-hand side of an otherwise implicit formula, the corrector can calculate a new, more accurate solution. \n",
    "\n",
    "The **midpoint method** has a predictor step:\n",
    "\n",
    "$$\n",
    "S\\left(t_{j} + \\frac{h}{2}\\right) = S(t_j) + \\frac{h}{2}F(t_j, S(t_j)),\n",
    "$$\n",
    "\n",
    "which is the prediction of the solution value halfway between $t_j$ and $t_{j+1}$.\n",
    "\n",
    "It then computes the corrector step:\n",
    "\n",
    "$$\n",
    "S(t_{j+1}) = S(t_j) + hF\\left(t_j + \\frac{h}{2}, S\\left(t_{j} +\n",
    "\\frac{h}{2}\\right)\\right)\n",
    "$$ \n",
    "\n",
    "which computes the solution at $S(t_{j+1})$ from $S(t_j)$ but using the derivative from $S\\left(t_{j} + \\frac{h}{2}\\right)$."
   ]
  },
  {
   "attachments": {},
   "cell_type": "markdown",
   "metadata": {},
   "source": [
    "## Runge-Kutta Methods\n",
    "\n",
    "**Runge Kutta** (RK) methods are one of the most widely used methods for solving ODEs.\n",
    "Recall that the Euler method uses the first two terms in Taylor series to approximate the numerical integration, which is linear: $S(t_{j+1}) = S(t_j + h) = S(t_j) + h \\cdot S'(t_j)$.\n",
    "\n",
    "We can greatly improve the accuracy of numerical integration if we keep more terms of the series in \n",
    "\n",
    "$$S(t_{j+1}) = S(t_j + h) = S(t_j) + S'(t_j)h + \\frac{1}{2!}S''(t_j)h^2 + \\cdots + \\frac{1}{n!}S^{(n)}(t_j)h^n$$\n",
    "\n",
    "In order to get this more accurate solution, we need to derive the expressions of $S''(t_j), S'''(t_j), \\cdots, S^{(n)}(t_j)$.\n",
    "This extra work can be avoided using the RK methods, which is based on truncated Taylor series, but not require computation of these higher derivatives. \n"
   ]
  },
  {
   "attachments": {},
   "cell_type": "markdown",
   "metadata": {},
   "source": [
    "\n",
    "### Second-order Runge-Kutta method\n",
    "\n",
    "Let us first derive the second-order RK method.\n",
    "Let $\\frac{dS(t)}{dt} = F(t,S(t))$, then we can assume an integration formula the form of \n",
    "\n",
    "$$ S(t + h) = S(t) + c_1F(t, S(t))h + c_2F[t+ph, S(t)+qhF(t, S(t))]h $$\n",
    "\n",
    "We can attempt to find these parameters $c_1, c_2, p, q$ by matching the above equation to the second-order Taylor series, which gives us\n",
    "\n",
    "$$ S(t + h) =  S(t) + S'(t)h + \\frac{1}{2!}S''(t)h^2 = S(t) + F(t, S(t))h + \\frac{1}{2!}F'(t, S(t))h^2 $$\n",
    "\n",
    "Noting that \n",
    "\n",
    "$$ F'(t, s(t)) = \\frac{\\partial F}{\\partial t} + \\frac{\\partial F}{\\partial S}\\frac{\\partial S}{\\partial t} = \\frac{\\partial F}{\\partial t} + \\frac{\\partial F}{\\partial S}F $$\n",
    "\n",
    "Therefore, this equation can be written as:\n",
    "\n",
    "$$ S(t + h) = S + Fh + \\frac{1}{2!}\\Big(\\frac{\\partial F}{\\partial t} + \\frac{\\partial F}{\\partial S}F\\Big)h^2 $$\n",
    "\n",
    "We can also rewrite the last term by applying Taylor series in several variables, which gives us:\n",
    "\n",
    "$$F[t+ph, S+qhF] = F + \\frac{\\partial F}{\\partial t}ph + qh\\frac{\\partial F}{\\partial S}F$$\n",
    "thus the equation becomes:\n",
    "\n",
    "$$ S(t + h) = S + (c_1+c_2)Fh + c_1\\Big[ \\frac{\\partial F}{\\partial t}p + q\\frac{\\partial F}{\\partial S}F \\Big]h^2 $$\n",
    "\n",
    "Comparing equations, we can easily obtain: \n",
    "\n",
    "$$c_1 + c_2 = 1, \\space c_2p=\\frac{1}{2}, \\space c_2q=\\frac{1}{2} $$\n",
    "\n",
    "Because the equation has four unknowns and only three equations, we can assign any value to one of the parameters and get the rest of the parameters.\n",
    "One popular choice is:\n",
    "\n",
    "$$c_1 =\\frac{1}{2}, \\space c_2 =\\frac{1}{2}, \\space p =1, \\space q=1 $$\n",
    "\n",
    "We can also define:\n",
    "$$\n",
    "\\begin{align}\n",
    "k_1 & = F(t_j,S(t_j))\\\\\n",
    "k_2 & = F\\left(t_j+ph, S(t_j)+qhk_1\\right)\n",
    "\\end{align}\n",
    "$$\n",
    "\n",
    "where we will have:\n",
    "\n",
    "$$ S(t_{j+1}) = S(t_j) + \\frac{1}{2}(k_1+k_2)h $$"
   ]
  },
  {
   "cell_type": "code",
   "execution_count": null,
   "metadata": {},
   "outputs": [],
   "source": [
    "# RK2 method\n",
    "s_rk2 = np.zeros(len(t))\n",
    "s_rk2[0] = s0\n",
    "\n",
    "for i in range(0, len(t) - 1):\n",
    "\n",
    "    k1 = f(t[i], s_rk2[i])\n",
    "    k2 = f(t[i] + h, s_rk2[i] + h*k1 )\n",
    "    s_rk2[i + 1] = s_rk2[i] + (h/2)*(k1+k2)\n",
    "\n",
    "plt.figure(figsize = (12, 8))\n",
    "plt.plot(t, s, 'bo--', label='Explicit Euler')\n",
    "plt.plot(t, g(t), 'g', label='Exact')\n",
    "plt.plot(t, s_mid, 'ro-.', label='Midpoint')\n",
    "plt.plot(t, s_rk2, 'co:', label='RK2')\n",
    "plt.xlabel('$t$')\n",
    "plt.ylabel('$S(t)$')\n",
    "plt.grid()\n",
    "plt.legend(loc='lower right')\n",
    "plt.savefig(\"explicit_euler_midpoint_rk2.pdf\")\n",
    "plt.show()"
   ]
  },
  {
   "cell_type": "markdown",
   "metadata": {},
   "source": [
    "\n",
    "### Fourth-order Runge-Kutta method\n",
    "\n",
    "A classical method for integrating ODEs with a high order of accuracy is the **Fourth-order Runge-Kutta** (RK4) method.\n",
    "It is obtained from the Taylor series using similar approach we just discussed in the second-order method.\n",
    "This method uses four points $k_1, k_2, k_3$, and $k_4$.\n",
    "A weighted average of these is used to produce the approximation of the solution. The formula is as follows.\n",
    "\n",
    "$$\n",
    "\\begin{align}\n",
    "k_1 & = F(t_j,S(t_j))\\\\\n",
    "k_2 & = F\\left(t_j+\\frac{h}{2},S(t_j)+\\frac{1}{2}k_1h\\right)\\\\\n",
    "k_3 & = F\\left(t_j+\\frac{h}{2},S(t_j)+\\frac{1}{2}k_2h\\right)\\\\\n",
    "k_4 & = F(t_j+h,S(t_j)+k_3h)\n",
    "\\end{align}\n",
    "$$\n",
    "\n",
    "Therefore, we will have:\n",
    "\n",
    "$$\n",
    "S(t_{j+1}) = S(t_j) + \\frac{h}{6}\\left(k_1 + 2k_2 + 2k_3 + k_4\\right).\n",
    "$$\n",
    "\n",
    "As indicated by its name, the RK4 method is fourth-order accurate, or $O(h^4)$."
   ]
  },
  {
   "cell_type": "code",
   "execution_count": null,
   "metadata": {},
   "outputs": [],
   "source": [
    "# RK4 method\n",
    "s_rk4 = np.zeros(len(t))\n",
    "s_rk4[0] = s0\n",
    "\n",
    "for i in range(0, len(t) - 1):\n",
    "\n",
    "    k1 = f(t[i], s_rk4[i])\n",
    "    k2 = f(t[i] + h/2, s_rk4[i] + h*k1/2 )\n",
    "    k3 = f(t[i] + h/2, s_rk4[i] + h*k2/2 )\n",
    "    k4 = f(t[i] + h, s_rk4[i] + h*k3)\n",
    "    s_rk4[i + 1] = s_rk4[i] + (h/6)*(k1+2*k2 + 2*k3 + k4)\n",
    "\n",
    "plt.figure(figsize = (12, 8))\n",
    "plt.plot(t, s, 'bo--', label='Explicit Euler')\n",
    "plt.plot(t, g(t), 'g', label='Exact')\n",
    "plt.plot(t, s_mid, 'ro-.', label='Midpoint')\n",
    "plt.plot(t, s_rk2, 'co:', label='RK2')\n",
    "plt.plot(t, s_rk4, 'oy', ls=(0, (3, 5, 1, 5, 1, 5)), label='RK4')\n",
    "plt.xlabel('$t$')\n",
    "plt.ylabel('$S(t)$')\n",
    "plt.grid()\n",
    "plt.legend(loc='lower right')\n",
    "plt.savefig(\"explicit_euler_midpoint_rk4.pdf\")\n",
    "plt.show()"
   ]
  },
  {
   "cell_type": "code",
   "execution_count": null,
   "metadata": {},
   "outputs": [],
   "source": []
  }
 ],
 "metadata": {
  "kernelspec": {
   "display_name": "Python 3",
   "language": "python",
   "name": "python3"
  },
  "language_info": {
   "codemirror_mode": {
    "name": "ipython",
    "version": 3
   },
   "file_extension": ".py",
   "mimetype": "text/x-python",
   "name": "python",
   "nbconvert_exporter": "python",
   "pygments_lexer": "ipython3",
   "version": "3.9.15"
  }
 },
 "nbformat": 4,
 "nbformat_minor": 2
}
