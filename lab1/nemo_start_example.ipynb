{
 "cells": [
  {
   "cell_type": "markdown",
   "metadata": {},
   "source": [
    "# Running NEMO in a jupyter notebook\n",
    "\n",
    "This notebook will help you getting started with [NEMO](https://teuben.github.io/nemo/) in a jupyter notebook!\n",
    "\n",
    "NEMO is a package that consists of [a set of \n",
    "compiled executables](https://teuben.github.io/nemo/man_html/index1.html) that run in a Unix environment. Normally you would issue commands in a terminal (shell), or via a script. Parameters are passed to the programs, and data are stored in files or passed via unix pipes.\n",
    "But since NEMO version 4.1.2 there is some better support to use NEMO commands in a jupyter notebook.    There are a few ways to use these into a notebook, with currently a few limitations. Here we are exploring some, but watch out for future changes. For now we are also limited to Python.\n",
    "\n",
    "When NEMO was installed, the file **nemo_start.py** was also created. This file will need to be locally present, so we can import it, or copied into your python's sys.path, or your site-packages. This is the best way to make sure to inherit the environment in a portable way.\n",
    "\n",
    "Here is our currently suggested way to set up your python shell for NEMO, one simple **import**:"
   ]
  },
  {
   "cell_type": "code",
   "execution_count": null,
   "metadata": {},
   "outputs": [],
   "source": [
    "import sys\n",
    "sys.path.insert(0,'/home/jovyan/nemo')\n",
    "import nemo_start"
   ]
  },
  {
   "cell_type": "markdown",
   "metadata": {},
   "source": [
    "Then we add a few common imports, for plotting in this case."
   ]
  },
  {
   "cell_type": "code",
   "execution_count": null,
   "metadata": {},
   "outputs": [],
   "source": [
    "import numpy as np\n",
    "%matplotlib inline\n",
    "import matplotlib.pyplot as plt"
   ]
  },
  {
   "cell_type": "markdown",
   "metadata": {},
   "source": [
    "There are several ways to run NEMO commands. We take an example of creating a plummer sphere with 10 particles and a known seed so we always know the answer. We then look at the phase space coordinated of these 10 bodies. We need two programs:  **mkplummer** and **snapprint**   (for the old timers:   **snapplot** does not work in notebooks since it creates a PNG, PS or X-display)\n",
    "\n",
    "So, first lets look at the keywords that these programs have:"
   ]
  },
  {
   "cell_type": "code",
   "execution_count": null,
   "metadata": {},
   "outputs": [],
   "source": [
    "!mkplummer help=h"
   ]
  },
  {
   "cell_type": "code",
   "execution_count": null,
   "metadata": {},
   "outputs": [],
   "source": [
    "!snapprint help=h"
   ]
  },
  {
   "cell_type": "code",
   "execution_count": null,
   "metadata": {
    "scrolled": false
   },
   "outputs": [],
   "source": [
    "!mkplummer - 10 seed=123| snapprint - > p10.tab\n",
    "(x,y,z,vx,vy,vz) = np.loadtxt('p10.tab').T\n",
    "tab = np.loadtxt('p10.tab')\n",
    "print(tab.shape)\n",
    "print(tab)"
   ]
  },
  {
   "cell_type": "markdown",
   "metadata": {},
   "source": [
    "So you see the **help=h** keyword gives you some help, though there are also online manpages with far more background information. See for example \n",
    "https://teuben.github.io/nemo/man_html/mkplummer.1.html for  the **mkplummer** program.\n",
    "\n",
    "\n",
    "Apart from that NEMO programs use **keyword=value**, instead of **--keyword value** to pass parameters into the program, there is another feature about files in NEMO.   The stdin on one end of the pipe can be connected to the stdout of the other side of the pipe.\n",
    "\n",
    "The example here could have equally well have been run with\n",
    "\n",
    "        mkplummer p10 10 seed=123\n",
    "        snapprint p10 > p10.tab\n",
    "        \n",
    "Now that we have the phase space coordinates in (x,y,z,vx,vy,vz), we can make some interesting plots:"
   ]
  },
  {
   "cell_type": "code",
   "execution_count": null,
   "metadata": {},
   "outputs": [],
   "source": [
    "plt.figure(figsize=(8,8))\n",
    "plt.scatter(x,y)\n",
    "plt.xlim(-5,5)\n",
    "plt.ylim(-5,5)\n",
    "plt.title(\"just a Plummer\")"
   ]
  },
  {
   "cell_type": "markdown",
   "metadata": {},
   "source": [
    "One can also open a **bash** shell in a cell, but remember each cell is essentially a new shell."
   ]
  },
  {
   "cell_type": "code",
   "execution_count": null,
   "metadata": {},
   "outputs": [],
   "source": [
    "%%bash\n",
    "mkplummer - 10  seed=123 | snapprint -"
   ]
  },
  {
   "cell_type": "markdown",
   "metadata": {},
   "source": [
    "One can also define python variables, and pass them into one of the two common ways to pass on"
   ]
  },
  {
   "cell_type": "code",
   "execution_count": null,
   "metadata": {},
   "outputs": [],
   "source": [
    "nbody=10\n",
    "seed=123"
   ]
  },
  {
   "cell_type": "code",
   "execution_count": null,
   "metadata": {},
   "outputs": [],
   "source": [
    "!mkplummer - {nbody} seed={seed} | snapprint -"
   ]
  },
  {
   "cell_type": "code",
   "execution_count": null,
   "metadata": {},
   "outputs": [],
   "source": [
    "%%bash -s $nbody $seed\n",
    "\n",
    "mkplummer - $1  seed=$2 | snapprint -"
   ]
  },
  {
   "cell_type": "markdown",
   "metadata": {},
   "source": [
    "here is yet another way, but the stdout/stderr will go to the original terminal from which jupyter was started. You may never see this, if you never saw this terminal (think remote users like on SciServer), so this method is probably to be avoided"
   ]
  },
  {
   "cell_type": "code",
   "execution_count": null,
   "metadata": {},
   "outputs": [],
   "source": [
    "import os\n",
    "cmd = 'mkplummer - 10 seed=123 | snapprint -'\n",
    "os.system(cmd)"
   ]
  },
  {
   "cell_type": "code",
   "execution_count": null,
   "metadata": {},
   "outputs": [],
   "source": [
    "cmd = 'mkplummer - 10 seed=123 | snapprint - > p10.log'\n",
    "os.system(cmd)\n",
    "!cat p10.log"
   ]
  },
  {
   "cell_type": "code",
   "execution_count": null,
   "metadata": {},
   "outputs": [],
   "source": []
  }
 ],
 "metadata": {
  "kernelspec": {
   "display_name": "Python 3 (ipykernel)",
   "language": "python",
   "name": "python3"
  },
  "language_info": {
   "codemirror_mode": {
    "name": "ipython",
    "version": 3
   },
   "file_extension": ".py",
   "mimetype": "text/x-python",
   "name": "python",
   "nbconvert_exporter": "python",
   "pygments_lexer": "ipython3",
   "version": "3.9.5"
  }
 },
 "nbformat": 4,
 "nbformat_minor": 2
}
